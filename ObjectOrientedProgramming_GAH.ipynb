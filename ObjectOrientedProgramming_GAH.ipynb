{
 "cells": [
  {
   "cell_type": "code",
   "execution_count": null,
   "id": "2f697033",
   "metadata": {},
   "outputs": [],
   "source": [
    "#fundamentals of OOP"
   ]
  },
  {
   "cell_type": "code",
   "execution_count": 1,
   "id": "017c6edd",
   "metadata": {},
   "outputs": [],
   "source": [
    "#class and attributes\n",
    "class Employee():\n",
    "    employee_name = \"Ecem\"\n",
    "    department = \"Mathematics\n",
    "    starting_year = 2023\n",
    "    salary = 10000"
   ]
  },
  {
   "cell_type": "code",
   "execution_count": 2,
   "id": "4f3acf67",
   "metadata": {},
   "outputs": [],
   "source": [
    "#object that we can access the attributes we define inside the class\n",
    "myObject = Employee()"
   ]
  },
  {
   "cell_type": "code",
   "execution_count": 3,
   "id": "536b59b0",
   "metadata": {},
   "outputs": [
    {
     "name": "stdout",
     "output_type": "stream",
     "text": [
      "Ecem\n",
      "Mathematic\n",
      "2023\n",
      "10000\n"
     ]
    }
   ],
   "source": [
    "#attributes of myObject\n",
    "print(myObject.employee_name)\n",
    "print(myObject.department)\n",
    "print(myObject.starting_year)\n",
    "print(myObject.salary)"
   ]
  },
  {
   "cell_type": "code",
   "execution_count": 4,
   "id": "a13302d0",
   "metadata": {},
   "outputs": [],
   "source": [
    "#different values\n",
    "class Employee():\n",
    "    employee_name = \"John\"\n",
    "    department = \"Soldier\"\n",
    "    starting_year = 1978\n",
    "    salary = 100000\n",
    "myObject = Employee()"
   ]
  },
  {
   "cell_type": "code",
   "execution_count": 5,
   "id": "bbe2686c",
   "metadata": {},
   "outputs": [
    {
     "name": "stdout",
     "output_type": "stream",
     "text": [
      "John\n",
      "Soldier\n",
      "1978\n",
      "100000\n"
     ]
    }
   ],
   "source": [
    "print(myObject.employee_name)\n",
    "print(myObject.department)\n",
    "print(myObject.starting_year)\n",
    "print(myObject.salary)"
   ]
  },
  {
   "cell_type": "code",
   "execution_count": null,
   "id": "18e7d30d",
   "metadata": {},
   "outputs": [],
   "source": [
    "#access all attributes"
   ]
  },
  {
   "cell_type": "code",
   "execution_count": 8,
   "id": "989b68c8",
   "metadata": {},
   "outputs": [],
   "source": [
    "#self refers to the newly created object\n",
    "class Employees():\n",
    "    def __init__(self, employee_name, department, starting_year, salary):\n",
    "        self.employee_name = employee_name\n",
    "        self.department = department\n",
    "        self.starting_year = starting_year \n",
    "        self.salary = salary"
   ]
  },
  {
   "cell_type": "code",
   "execution_count": null,
   "id": "c73e3ef8",
   "metadata": {},
   "outputs": [],
   "source": [
    "#copies of classes"
   ]
  },
  {
   "cell_type": "code",
   "execution_count": 11,
   "id": "65389c3b",
   "metadata": {},
   "outputs": [
    {
     "name": "stdout",
     "output_type": "stream",
     "text": [
      "Ecem\n",
      "Mathematics\n",
      "2023\n",
      "10000\n"
     ]
    }
   ],
   "source": [
    "employee_1 = Employees(\"Ecem\", \"Mathematics\", 2023, 10000)\n",
    "\n",
    "print(employee_1.employee_name)\n",
    "print(employee_1.department)\n",
    "print(employee_1.starting_year)\n",
    "print(employee_1.salary)"
   ]
  }
 ],
 "metadata": {
  "kernelspec": {
   "display_name": "Python 3 (ipykernel)",
   "language": "python",
   "name": "python3"
  },
  "language_info": {
   "codemirror_mode": {
    "name": "ipython",
    "version": 3
   },
   "file_extension": ".py",
   "mimetype": "text/x-python",
   "name": "python",
   "nbconvert_exporter": "python",
   "pygments_lexer": "ipython3",
   "version": "3.9.13"
  }
 },
 "nbformat": 4,
 "nbformat_minor": 5
}
