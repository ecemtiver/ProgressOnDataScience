{
 "cells": [
  {
   "cell_type": "markdown",
   "id": "9a9d1b02",
   "metadata": {},
   "source": [
    "Python Tekrar"
   ]
  },
  {
   "cell_type": "code",
   "execution_count": 4,
   "id": "3792730b",
   "metadata": {
    "scrolled": true
   },
   "outputs": [
    {
     "name": "stdout",
     "output_type": "stream",
     "text": [
      "<class 'int'>\n",
      "<class 'float'>\n",
      "<class 'complex'>\n",
      "<class 'str'>\n",
      "<class 'bool'>\n",
      "<class 'bool'>\n"
     ]
    }
   ],
   "source": [
    "#veri tipleri\n",
    "\n",
    "x = 8\n",
    "print(type(x))\n",
    "\n",
    "y = 3.2\n",
    "print(type(y))\n",
    "\n",
    "z = 8j + 18\n",
    "print(type(z))\n",
    "\n",
    "a = \"Hello World\"\n",
    "print(type(a))\n",
    "\n",
    "b = True\n",
    "print(type(b))\n",
    "\n",
    "c = 23 < 22\n",
    "print(type(c))"
   ]
  },
  {
   "cell_type": "code",
   "execution_count": 6,
   "id": "e3787cd0",
   "metadata": {},
   "outputs": [
    {
     "name": "stdout",
     "output_type": "stream",
     "text": [
      "<class 'list'>\n",
      "<class 'dict'>\n",
      "<class 'tuple'>\n",
      "<class 'set'>\n"
     ]
    }
   ],
   "source": [
    "l = [1, 2, 3, 4,\"String\",3.2, False]\n",
    "print(type(l))\n",
    "\n",
    "d = {\"Name\": \"Jake\",\n",
    "     \"Age\": [27,56],\n",
    "     \"Adress\": \"Downtown\"}\n",
    "print(type(d))\n",
    "\n",
    "t = (\"Machine Learning\", \"Data Science\")\n",
    "print(type(t))\n",
    "\n",
    "s = {\"Python\", \"Machine Learning\", \"Data Science\",\"Python\"}\n",
    "print(type(s))\n",
    "\n",
    "#liste> sıralı,değiştirilebilir\n",
    "#sözlük> sırasız,değiştirilebilir\n",
    "#demet>(tuple) sıralı,değiştirilemez\n",
    "#küme> sırasız,değiştirilebilir,eşsiz\n",
    "#bu veri tipleri aynı zamanda kapsayıcı"
   ]
  },
  {
   "cell_type": "code",
   "execution_count": 8,
   "id": "60c02eb8",
   "metadata": {},
   "outputs": [
    {
     "data": {
      "text/plain": [
       "['CÜMLENIN',\n",
       " 'HARFLERININ',\n",
       " 'BOYUTUYLA',\n",
       " 'OYNAYALIM',\n",
       " 'NOKTALAMA',\n",
       " 'IŞARETLERINI',\n",
       " 'DEĞIŞTIRELIM']"
      ]
     },
     "execution_count": 8,
     "metadata": {},
     "output_type": "execute_result"
    }
   ],
   "source": [
    "#büyük\n",
    "\n",
    "text = \"Cümlenin harflerinin boyutuyla oynayalım, noktalama işaretlerini değiştirelim.\"\n",
    "text.upper().replace(\",\",\" \").replace(\".\",\" \").split()"
   ]
  },
  {
   "cell_type": "code",
   "execution_count": 45,
   "id": "660e38bb",
   "metadata": {},
   "outputs": [
    {
     "name": "stdout",
     "output_type": "stream",
     "text": [
      "11\n",
      "T\n",
      "['D', 'A', 'T', 'A', 'S', 'C', 'I', 'E']\n",
      "S\n",
      "['D', 'A', 'T', 'A', 'C', 'I', 'E', 'N', 'C', 'E', 777]\n",
      "None\n",
      "['D', 'A', 'T', 'A', 'C', 'I', 'E', 'E', 'N', 'C', 'E', 777, 777]\n",
      "[777, 777, 'E', 'C', 'N', 'E', 'E', 'I', 'C', 'A', 'T', 'A', 'D']\n",
      "[777, 'E', 'C', 'N', 'E', 'E', 'I', 'C', 'A', 'T', 'A', 'D']\n",
      "['E', 'C', 'N', 'E', 'E', 'I', 'C', 'A', 'T', 'A', 'D']\n",
      "['A', 'A', 'C', 'C', 'D', 'E', 'E', 'E', 'I', 'N', 'T']\n"
     ]
    }
   ],
   "source": [
    "lst = [\"D\",\"A\",\"T\",\"A\",\"S\",\"C\",\"I\",\"E\",\"N\",\"C\",\"E\"]\n",
    "\n",
    "print(len(lst)) #uzunluk\n",
    "\n",
    "print(lst[2]) #listenin 3. elemanı, index 0'dan başlar\n",
    "\n",
    "data_lst = lst[0:8] #8 dahil değil\n",
    "print(data_lst) #data_lst yeni liste\n",
    "\n",
    "print(lst.pop(4)) #index no:4 önce listeden kaldırılır, sonra ekrana yazılır\n",
    "\n",
    "lst.append(777) #listeye ekle, güncel liste yazdır\n",
    "print(lst)\n",
    "\n",
    "print(lst.append(777)) #liste.append() yöntemi bir liste nesnesine yeni bir öğe ekler ve listeyi değiştirir. ancak, bu yöntem bir değer döndürmez veya none değerini döndürür\n",
    "\n",
    "lst.insert(7,\"E\") #7. pozisyone ekler\n",
    "print(lst)\n",
    "\n",
    "lst.reverse() #ters sıralama\n",
    "print(lst)\n",
    "\n",
    "lst.remove(777) #eleman çıkar\n",
    "print(lst)\n",
    "\n",
    "lst.pop(0) #index'e göre belirtilen veya belirtilmeyen son elemanı çıkar\n",
    "print(lst)\n",
    "\n",
    "lst.sort() #alfabetik\n",
    "print(lst)"
   ]
  },
  {
   "cell_type": "code",
   "execution_count": 46,
   "id": "a85472bb",
   "metadata": {},
   "outputs": [
    {
     "name": "stdout",
     "output_type": "stream",
     "text": [
      "33\n",
      "[11, 22]\n"
     ]
    }
   ],
   "source": [
    "lst = [11, 22, 33]\n",
    "last_element = lst.pop()\n",
    "print(last_element)\n",
    "print(lst)"
   ]
  },
  {
   "cell_type": "code",
   "execution_count": 47,
   "id": "d6179c8a",
   "metadata": {},
   "outputs": [
    {
     "name": "stdout",
     "output_type": "stream",
     "text": [
      "11\n",
      "[22, 33]\n"
     ]
    }
   ],
   "source": [
    "lst = [11, 22, 33]\n",
    "second_element = lst.pop(0)\n",
    "print(second_element)\n",
    "print(lst) "
   ]
  },
  {
   "cell_type": "code",
   "execution_count": 48,
   "id": "3bcb7c75",
   "metadata": {},
   "outputs": [
    {
     "data": {
      "text/plain": [
       "dict_keys(['Christian', 'Daisy', 'Antonio', 'Dante'])"
      ]
     },
     "execution_count": 48,
     "metadata": {},
     "output_type": "execute_result"
    }
   ],
   "source": [
    "dict = {'Christian': [\"America\",18],\n",
    "        'Daisy':[\"England\",12],\n",
    "        'Antonio':[\"Spain\",22],\n",
    "        'Dante':[\"Italy\",25]}\n",
    "dict.keys() #(k,v)"
   ]
  },
  {
   "cell_type": "code",
   "execution_count": 49,
   "id": "ac4e583e",
   "metadata": {},
   "outputs": [
    {
     "data": {
      "text/plain": [
       "dict_values([['America', 18], ['England', 12], ['Spain', 22], ['Italy', 25]])"
      ]
     },
     "execution_count": 49,
     "metadata": {},
     "output_type": "execute_result"
    }
   ],
   "source": [
    "dict.values()"
   ]
  },
  {
   "cell_type": "code",
   "execution_count": 52,
   "id": "ccb0ba41",
   "metadata": {},
   "outputs": [
    {
     "data": {
      "text/plain": [
       "{'Christian': ['America', 18],\n",
       " 'Daisy': ['England', 13],\n",
       " 'Antonio': ['Spain', 22],\n",
       " 'Dante': ['Italy', 25]}"
      ]
     },
     "execution_count": 52,
     "metadata": {},
     "output_type": "execute_result"
    }
   ],
   "source": [
    "dict.update({\"Daisy\": [\"England\",13]}) #value değişim\n",
    "dict"
   ]
  },
  {
   "cell_type": "code",
   "execution_count": 53,
   "id": "e277483b",
   "metadata": {},
   "outputs": [
    {
     "data": {
      "text/plain": [
       "{'Christian': ['America', 18],\n",
       " 'Daisy': ['England', 14],\n",
       " 'Antonio': ['Spain', 22],\n",
       " 'Dante': ['Italy', 25]}"
      ]
     },
     "execution_count": 53,
     "metadata": {},
     "output_type": "execute_result"
    }
   ],
   "source": [
    "dict[\"Daisy\"][1] = 14 #sözlükteki daisy anahtarının 2. elemanı değişir\n",
    "dict"
   ]
  },
  {
   "cell_type": "code",
   "execution_count": 54,
   "id": "ea87683d",
   "metadata": {},
   "outputs": [
    {
     "data": {
      "text/plain": [
       "{'Christian': ['America', 18],\n",
       " 'Daisy': ['England', 14],\n",
       " 'Antonio': ['Spain', 22],\n",
       " 'Dante': ['Italy', 25],\n",
       " 'Ahmet': ['Turkey', 24]}"
      ]
     },
     "execution_count": 54,
     "metadata": {},
     "output_type": "execute_result"
    }
   ],
   "source": [
    "dict.update({\"Ahmet\": [\"Turkey\", 24]})\n",
    "dict"
   ]
  },
  {
   "cell_type": "code",
   "execution_count": 55,
   "id": "4aecaac7",
   "metadata": {},
   "outputs": [
    {
     "data": {
      "text/plain": [
       "{'Christian': ['America', 18],\n",
       " 'Daisy': ['England', 14],\n",
       " 'Dante': ['Italy', 25],\n",
       " 'Ahmet': ['Turkey', 24]}"
      ]
     },
     "execution_count": 55,
     "metadata": {},
     "output_type": "execute_result"
    }
   ],
   "source": [
    "dict.pop(\"Antonio\") #çıkar\n",
    "dict"
   ]
  },
  {
   "cell_type": "code",
   "execution_count": 66,
   "id": "5a64306f",
   "metadata": {},
   "outputs": [
    {
     "name": "stdout",
     "output_type": "stream",
     "text": [
      "cift sayılar:  [4, 24, 98, 22]\n",
      "tek sayılar:  [37, 81]\n"
     ]
    }
   ],
   "source": [
    "l = [4,24,98,22,37,81]\n",
    "\n",
    "def func(list):\n",
    "\n",
    "    cift_list = []\n",
    "    tek_list = []\n",
    "\n",
    "    for i in list:\n",
    "        if i % 2 == 0:\n",
    "            cift_list.append(i)\n",
    "        else:\n",
    "            tek_list.append(i)\n",
    "\n",
    "    return cift_list, tek_list\n",
    "\n",
    "cift,tek = func(l) #fonksiyon çağırısı yaparken gerekli parametreler bildirilir\n",
    "print(\"cift sayılar: \", cift)\n",
    "print(\"tek sayılar: \", tek)"
   ]
  },
  {
   "cell_type": "code",
   "execution_count": 67,
   "id": "1b7c342b",
   "metadata": {},
   "outputs": [
    {
     "name": "stdout",
     "output_type": "stream",
     "text": [
      "Mühendislik Fakültesi 1 . öğrenci:  Ali\n",
      "Mühendislik Fakültesi 2 . öğrenci:  Veli\n",
      "Mühendislik Fakültesi 3 . öğrenci:  Ayşe\n",
      "Tıp Fakültesi 1 . öğrenci:  Talat\n",
      "Tıp Fakültesi 2 . öğrenci:  Zeynep\n",
      "Tıp Fakültesi 3 . öğrenci:  Ece\n"
     ]
    }
   ],
   "source": [
    "ogrenciler = [\"Ali\",\"Veli\",\"Ayşe\",\"Talat\",\"Zeynep\",\"Ece\"]\n",
    "for i,x in enumerate(ogrenciler):\n",
    "    if i<3:\n",
    "        i += 1\n",
    "        print(\"Mühendislik Fakültesi\",i,\". öğrenci: \",x)\n",
    "    else:\n",
    "        i -= 2\n",
    "        print(\"Tıp Fakültesi\",i,\". öğrenci: \",x)\n",
    "        \n",
    "#enumerate her elemanın kaçıncı sırada olduğunu tutuyor, sayaç ve obje parametre olarak alıyor"
   ]
  },
  {
   "cell_type": "code",
   "execution_count": 69,
   "id": "078ca663",
   "metadata": {},
   "outputs": [
    {
     "name": "stdout",
     "output_type": "stream",
     "text": [
      "0 banana\n",
      "1 pea\n",
      "2 cherry\n",
      "3 melon\n"
     ]
    }
   ],
   "source": [
    "iterable_obje = [\"banana\", \"pea\", \"cherry\", \"melon\"]\n",
    "for sayac, eleman in enumerate(iterable_obje):\n",
    "    print(sayac, eleman)\n",
    "    \n",
    "#enumerate fonksiyonu iterable_obje listesinde gezinirken elemanların sırasını sayac degişkenine aktarır\n",
    "#eleman değişkenine de o sıra bulunan elemanın index değerini aktarır"
   ]
  },
  {
   "cell_type": "code",
   "execution_count": 70,
   "id": "efa61d38",
   "metadata": {},
   "outputs": [
    {
     "name": "stdout",
     "output_type": "stream",
     "text": [
      "Kredisi 3 olan CMP1005 kodlu dersin kontenjanı 30 kişidir.\n",
      "Kredisi 4 olan PSY1001 kodlu dersin kontenjanı 75 kişidir.\n",
      "Kredisi 2 olan HUK1005 kodlu dersin kontenjanı 150 kişidir.\n",
      "Kredisi 4 olan SEN2204 kodlu dersin kontenjanı 25 kişidir.\n"
     ]
    }
   ],
   "source": [
    "ders_kodu = [\"CMP1005\",\"PSY1001\",\"HUK1005\",\"SEN2204\"]\n",
    "kredi = [3,4,2,4]\n",
    "kontenjan = [30,75,150,25]\n",
    "\n",
    "#for döngüsü her listedeki elemanı eşler, zip pararlel gezer\n",
    "\n",
    "for ders_kodu, kredi, kontenjan in zip(ders_kodu, kredi, kontenjan):\n",
    "  print(f\"Kredisi {kredi} olan {ders_kodu} kodlu dersin kontenjanı {kontenjan} kişidir.\")"
   ]
  },
  {
   "cell_type": "code",
   "execution_count": 71,
   "id": "058dc27e",
   "metadata": {},
   "outputs": [
    {
     "name": "stdout",
     "output_type": "stream",
     "text": [
      "{'science', 'function', 'repeat', 'enumerate'}\n"
     ]
    }
   ],
   "source": [
    "kume1 = set([\"data\", \"python\"])\n",
    "kume2 = set([\"data\", \"function\", \"enumerate\", \"repeat\", \"python\", \"science\"])\n",
    "\n",
    "def kume(set1,set2):\n",
    "    if set1.issuperset(set2): #set1 kapsar set2\n",
    "        print(set1.intersection(set2))\n",
    "    else:\n",
    "        print(set2.difference(set1)) #set2'de var set1'de yok\n",
    "\n",
    "kume(kume1,kume2) #fonksiyon çağırısı, kume fonksiyonuna parametre verme"
   ]
  }
 ],
 "metadata": {
  "kernelspec": {
   "display_name": "Python 3 (ipykernel)",
   "language": "python",
   "name": "python3"
  },
  "language_info": {
   "codemirror_mode": {
    "name": "ipython",
    "version": 3
   },
   "file_extension": ".py",
   "mimetype": "text/x-python",
   "name": "python",
   "nbconvert_exporter": "python",
   "pygments_lexer": "ipython3",
   "version": "3.9.13"
  }
 },
 "nbformat": 4,
 "nbformat_minor": 5
}
