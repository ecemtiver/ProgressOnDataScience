{
 "cells": [
  {
   "cell_type": "code",
   "execution_count": 11,
   "id": "36ddae55",
   "metadata": {},
   "outputs": [
    {
     "name": "stdout",
     "output_type": "stream",
     "text": [
      "[3900.0, 7800.0, 11700.0, 5200.0, 6500.0]\n"
     ]
    }
   ],
   "source": [
    "#Uzun yol\n",
    "\n",
    "salaries = [1000, 2000, 3000, 4000, 5000]\n",
    "\n",
    "def new_salary(x):\n",
    "    return x*30/100+x\n",
    "\n",
    "#for salary in salaries:\n",
    "   # print(new_salary(salary)\n",
    "          \n",
    "null_list = []\n",
    "          \n",
    "#for salary in salaries:\n",
    "   # null_list.append(new_salary(salary))\n",
    "    \n",
    "for salary in salaries:\n",
    "    if salary > 3000:\n",
    "        null_list.append(new_salary(salary))\n",
    "    else:\n",
    "        null_list.append(new_salary(salary*3))\n",
    "\n",
    "print(null_list)"
   ]
  },
  {
   "cell_type": "code",
   "execution_count": 12,
   "id": "164bd9f0",
   "metadata": {},
   "outputs": [
    {
     "name": "stdout",
     "output_type": "stream",
     "text": [
      "[3900.0, 7800.0, 11700.0, 5200.0, 6500.0]\n"
     ]
    }
   ],
   "source": [
    "#Kısa yol\n",
    "\n",
    "#List Comprehensions\n",
    "\n",
    "\n",
    "[new_salary(salary*2) if salary < 3000 else new_salary(salary) for salary in salaries]\n",
    "\n",
    "print(null_list)"
   ]
  },
  {
   "cell_type": "code",
   "execution_count": 13,
   "id": "a8b0ff99",
   "metadata": {},
   "outputs": [
    {
     "data": {
      "text/plain": [
       "[3000, 6000, 9000, 12000, 15000]"
      ]
     },
     "execution_count": 13,
     "metadata": {},
     "output_type": "execute_result"
    }
   ],
   "source": [
    "#maaşlar listesindeki her maaş 3 ile çarpılsın\n",
    "\n",
    "[salary*3 for salary in salaries]"
   ]
  },
  {
   "cell_type": "code",
   "execution_count": 15,
   "id": "f2db54cd",
   "metadata": {},
   "outputs": [
    {
     "data": {
      "text/plain": [
       "[3000, 6000]"
      ]
     },
     "execution_count": 15,
     "metadata": {},
     "output_type": "execute_result"
    }
   ],
   "source": [
    "#maaşı 3000'den küçük olonlar 3 ile çarpılsın\n",
    "\n",
    "[salary*3 for salary in salaries if salary<3000]"
   ]
  },
  {
   "cell_type": "code",
   "execution_count": 16,
   "id": "5de13b0a",
   "metadata": {},
   "outputs": [
    {
     "data": {
      "text/plain": [
       "[3000, 6000, 1500, 2000, 2500]"
      ]
     },
     "execution_count": 16,
     "metadata": {},
     "output_type": "execute_result"
    }
   ],
   "source": [
    "#eğer else ve if birlikte kullanacaksak, for kısmı sağda olmalı\n",
    "\n",
    "[salary*3 if salary<3000 else salary//2 for salary in salaries]"
   ]
  },
  {
   "cell_type": "code",
   "execution_count": 19,
   "id": "950925c9",
   "metadata": {},
   "outputs": [
    {
     "data": {
      "text/plain": [
       "[3900.0, 7800.0, 1950.0, 2600.0, 3250.0]"
      ]
     },
     "execution_count": 19,
     "metadata": {},
     "output_type": "execute_result"
    }
   ],
   "source": [
    "#içeri fonksiyon eklersek\n",
    "\n",
    "[new_salary(salary*3) if salary<3000 else new_salary(salary//2) for salary in salaries]"
   ]
  },
  {
   "cell_type": "code",
   "execution_count": 33,
   "id": "e44fc922",
   "metadata": {},
   "outputs": [
    {
     "data": {
      "text/plain": [
       "['APPLE', 'STRAWBERRY', 'BANANA']"
      ]
     },
     "execution_count": 33,
     "metadata": {},
     "output_type": "execute_result"
    }
   ],
   "source": [
    "fruits = [\"apple\", \"strawberry\", \"banana\"]\n",
    "\n",
    "fruits_no = [\"spinach\", \"pea\", \"leek\"]\n",
    "\n",
    "#meyveler büyük, sebzeler küçük harf ile yazılsın\n",
    "\n",
    "[fruit.lower() if fruit in fruits_no else fruit.upper() for fruit in fruits]"
   ]
  },
  {
   "cell_type": "code",
   "execution_count": 35,
   "id": "75c6ae85",
   "metadata": {},
   "outputs": [
    {
     "data": {
      "text/plain": [
       "['ANGEL', 'JOHN', 'MARRY']"
      ]
     },
     "execution_count": 35,
     "metadata": {},
     "output_type": "execute_result"
    }
   ],
   "source": [
    "students = [\"Angel\", \"John\", \"Marry\"]\n",
    "\n",
    "students_no = [\"Jack\", \"Cindy\"]\n",
    "\n",
    "#istenmeyen öğrenciler küçük harf ile yazılsın\n",
    "\n",
    "[student.lower() if student in student_no else student.upper() for student in students]"
   ]
  },
  {
   "cell_type": "code",
   "execution_count": 41,
   "id": "94eafca5",
   "metadata": {},
   "outputs": [
    {
     "name": "stdout",
     "output_type": "stream",
     "text": [
      "dict_keys(['x', 'y', 'z', 'm'])\n",
      "dict_values([1, 2, 3, 4])\n",
      "dict_items([('x', 1), ('y', 2), ('z', 3), ('m', 4)])\n"
     ]
    }
   ],
   "source": [
    "#Dict Comprehension\n",
    "\n",
    "dictionary = {'x':1,\n",
    "              'y':2,\n",
    "              'z':3,\n",
    "              'm':4}\n",
    "\n",
    "    #hatırlatma\n",
    "print(dictionary.keys())\n",
    "print(dictionary.values())\n",
    "print(dictionary.items()) #item çiftlerine liste formunda ama her bir elemanı tuple şeklinde"
   ]
  },
  {
   "cell_type": "code",
   "execution_count": 42,
   "id": "3759ea63",
   "metadata": {},
   "outputs": [
    {
     "data": {
      "text/plain": [
       "{'x': 1, 'y': 8, 'z': 27, 'm': 64}"
      ]
     },
     "execution_count": 42,
     "metadata": {},
     "output_type": "execute_result"
    }
   ],
   "source": [
    "{k: v**3 for (k,v) in dictionary.items()} #key ve value değerleriyle aynı anda oynayalım"
   ]
  },
  {
   "cell_type": "code",
   "execution_count": 45,
   "id": "7eb2a5cd",
   "metadata": {},
   "outputs": [
    {
     "data": {
      "text/plain": [
       "{'X': 1, 'Y': 2, 'Z': 3, 'M': 4}"
      ]
     },
     "execution_count": 45,
     "metadata": {},
     "output_type": "execute_result"
    }
   ],
   "source": [
    "{k.upper(): v for (k,v) in dictionary.items()}"
   ]
  },
  {
   "cell_type": "code",
   "execution_count": 48,
   "id": "e957e028",
   "metadata": {},
   "outputs": [
    {
     "data": {
      "text/plain": [
       "{'x': 1, 'y': 8, 'z': 27, 'm': 64}"
      ]
     },
     "execution_count": 48,
     "metadata": {},
     "output_type": "execute_result"
    }
   ],
   "source": [
    "{k.lower(): v**3 for (k,v) in dictionary.items()}"
   ]
  },
  {
   "cell_type": "code",
   "execution_count": 4,
   "id": "63fb49eb",
   "metadata": {},
   "outputs": [
    {
     "name": "stdout",
     "output_type": "stream",
     "text": [
      "{1: 1, 3: 9, 5: 25, 7: 49, 9: 81, 11: 121, 13: 169, 15: 225, 17: 289, 19: 361, 21: 441}\n"
     ]
    }
   ],
   "source": [
    "#Tek sayıların karesi alınsın, sözlüğe eklensin. Key orjinal kalıp value değişirse\n",
    "\n",
    "numbers = range(22)\n",
    "new_dict = {}\n",
    "\n",
    "for n in numbers:\n",
    "    if n % 2 != 0:\n",
    "        new_dict[n] = n**2\n",
    "\n",
    "print(new_dict)"
   ]
  },
  {
   "cell_type": "code",
   "execution_count": 7,
   "id": "9e9790af",
   "metadata": {
    "scrolled": true
   },
   "outputs": [
    {
     "data": {
      "text/plain": [
       "{1: 1,\n",
       " 3: 9,\n",
       " 5: 25,\n",
       " 7: 49,\n",
       " 9: 81,\n",
       " 11: 121,\n",
       " 13: 169,\n",
       " 15: 225,\n",
       " 17: 289,\n",
       " 19: 361,\n",
       " 21: 441}"
      ]
     },
     "execution_count": 7,
     "metadata": {},
     "output_type": "execute_result"
    }
   ],
   "source": [
    "#Comprehension kullanırsam\n",
    "\n",
    "{n: n**2 for n in numbers if n % 2 != 0} #if kullanmadıüğım için for başında"
   ]
  },
  {
   "cell_type": "code",
   "execution_count": 8,
   "id": "5f1cb7fe",
   "metadata": {},
   "outputs": [
    {
     "name": "stdout",
     "output_type": "stream",
     "text": [
      "total\n",
      "speeding\n",
      "alcohol\n",
      "not_distracted\n",
      "no_previous\n",
      "ins_premium\n",
      "ins_losses\n",
      "abbrev\n"
     ]
    }
   ],
   "source": [
    "#Bir veri setindeki değişken isimlerini değiştirmek, native python fonksiyonlar ile\n",
    "\n",
    "#'total', 'speeding', 'alcohol', 'not_distracted', 'no_previous', 'ins_premium', 'ins_loses', 'abbrev']\n",
    "#data frame'lerin hepsini büyük harf halleriyle değiştirme\n",
    "\n",
    "import seaborn as sns #kütüphane çağırma\n",
    "df = sns.load_dataset(\"car_crashes\") #kütüphane içindeki veri setini çağırma\n",
    "df.columns #ilgili date frame değişkenlerinin isimlerini çağırma\n",
    "\n",
    "for col in df.columns:\n",
    "    print(col)"
   ]
  },
  {
   "cell_type": "code",
   "execution_count": 10,
   "id": "282b7c4c",
   "metadata": {},
   "outputs": [
    {
     "name": "stdout",
     "output_type": "stream",
     "text": [
      "TOTAL\n",
      "SPEEDING\n",
      "ALCOHOL\n",
      "NOT_DISTRACTED\n",
      "NO_PREVIOUS\n",
      "INS_PREMIUM\n",
      "INS_LOSSES\n",
      "ABBREV\n"
     ]
    }
   ],
   "source": [
    "for col in df.columns:\n",
    "    print(col.upper())\n",
    "    \n",
    "#for ile gezinme"
   ]
  },
  {
   "cell_type": "code",
   "execution_count": 27,
   "id": "1d4bbded",
   "metadata": {},
   "outputs": [
    {
     "name": "stdout",
     "output_type": "stream",
     "text": [
      "['TOTAL', 'SPEEDING', 'ALCOHOL', 'NOT_DISTRACTED', 'NO_PREVIOUS', 'INS_PREMIUM', 'INS_LOSSES', 'ABBREV']\n"
     ]
    }
   ],
   "source": [
    "L = []\n",
    "\n",
    "for col in df.columns:\n",
    "    L.append(col.upper())\n",
    "    \n",
    "df.columns = L\n",
    "\n",
    "#liste formatında isterse\n",
    "\n",
    "print(L)"
   ]
  },
  {
   "cell_type": "code",
   "execution_count": 41,
   "id": "165ea1fb",
   "metadata": {},
   "outputs": [
    {
     "name": "stdout",
     "output_type": "stream",
     "text": [
      "Index(['TOTAL', 'SPEEDING', 'ALCOHOL', 'NOT_DISTRACTED', 'NO_PREVIOUS',\n",
      "       'INS_PREMIUM', 'INS_LOSSES', 'ABBREV'],\n",
      "      dtype='object')\n"
     ]
    }
   ],
   "source": [
    "df = sns.load_dataset(\"car_crashes\")\n",
    "\n",
    "df.columns = [col.upper() for col in df.columns]\n",
    "\n",
    "print(df.columns)"
   ]
  },
  {
   "cell_type": "code",
   "execution_count": 49,
   "id": "9be475ef",
   "metadata": {},
   "outputs": [
    {
     "name": "stdout",
     "output_type": "stream",
     "text": [
      "Index(['TOTAL', 'SPEEDING', 'ALCOHOL', 'NOT_DISTRACTED', 'NO_PREVIOUS',\n",
      "       'INS_PREMIUM', 'INS_LOSSES', 'ABBREV'],\n",
      "      dtype='object')\n"
     ]
    },
    {
     "data": {
      "text/plain": [
       "['FLAG_INS_PREMIUM', 'FLAG_INS_LOSSES']"
      ]
     },
     "execution_count": 49,
     "metadata": {},
     "output_type": "execute_result"
    }
   ],
   "source": [
    "#İsminde \"INS\" olan değişkenlerin başına FLAG diğerlerine NO_FLAG ekle\n",
    "\n",
    "[col for col in df.columns if \"INS\" in col]\n",
    "\n",
    "print(df.columns)\n",
    "\n",
    "[\"FLAG_\" + col for col in df.columns if \"INS\" in col]\n"
   ]
  },
  {
   "cell_type": "code",
   "execution_count": 8,
   "id": "321e4968",
   "metadata": {
    "scrolled": true
   },
   "outputs": [
    {
     "name": "stdout",
     "output_type": "stream",
     "text": [
      "Index(['total', 'speeding', 'alcohol', 'not_distracted', 'no_previous',\n",
      "       'ins_premium', 'ins_losses', 'abbrev'],\n",
      "      dtype='object')\n"
     ]
    }
   ],
   "source": [
    "#list Comprehensions ile\n",
    "\n",
    "df = sns.load_dataset(\"car_crashes\")\n",
    "\n",
    "[\"FLAG_\" + col if \"INS\" in col else \"NO_FLAG_\" + col for col in df.columns]\n",
    "\n",
    "print(df.columns)"
   ]
  },
  {
   "cell_type": "code",
   "execution_count": null,
   "id": "97485df5",
   "metadata": {},
   "outputs": [],
   "source": [
    "#Amaç key'i string, value'su aşağıdaki gibi bir liste olan sözlük oluşturmak,\n",
    "# sadece sayısal değerler için olacak şekilde\n",
    "\n",
    "# Output:\n",
    "# {'total': ['mean', 'min, 'max', 'var'],\n",
    "#  'speeding': ['mean', 'min, 'max', 'var'],\n",
    "#  'alcohol': ['mean', 'min, 'max', 'var'],\n",
    "#  'not_distracted': ['mean', 'min, 'max', 'var'],\n",
    "#  'no_previous': ['mean', 'min, 'max', 'var'],\n",
    "#  'ins_premium': ['mean', 'min, 'max', 'var'],\n",
    "#  'ins_losses': ['mean', 'min, 'max', 'var']}\n",
    "\n",
    "#fonkısiyonlar string değer"
   ]
  },
  {
   "cell_type": "code",
   "execution_count": 9,
   "id": "ca7a124b",
   "metadata": {},
   "outputs": [
    {
     "data": {
      "text/plain": [
       "Index(['total', 'speeding', 'alcohol', 'not_distracted', 'no_previous',\n",
       "       'ins_premium', 'ins_losses', 'abbrev'],\n",
       "      dtype='object')"
      ]
     },
     "execution_count": 9,
     "metadata": {},
     "output_type": "execute_result"
    }
   ],
   "source": [
    "#Dict Comprehensions\n",
    "\n",
    "import seaborn as sns #kütüphane çağırma\n",
    "df = sns.load_dataset(\"car_crashes\") #kütüphane içindeki veri setini çağırma\n",
    "df.columns #ilgili data frame değişkenlerinin isimlerini çağırma"
   ]
  },
  {
   "cell_type": "code",
   "execution_count": 14,
   "id": "8edd6a85",
   "metadata": {},
   "outputs": [
    {
     "name": "stdout",
     "output_type": "stream",
     "text": [
      "['total', 'speeding', 'alcohol', 'not_distracted', 'no_previous', 'ins_premium', 'ins_losses']\n"
     ]
    }
   ],
   "source": [
    "num_cols = [col for col in df.columns if df[col].dtype != \"O\"] #object\n",
    "\n",
    "# 'col for col in df.columns' değişkenleri gezerken\n",
    "# 'df[col] bu değişkenlerden birisinin ismini(her iterasyonda her değişkenin ismini) seçer\n",
    "# bu dataframe köşeli parantez ile girersek df, dataframedeki ilgili değişkeni seçer\n",
    "\n",
    "print(num_cols)"
   ]
  },
  {
   "cell_type": "code",
   "execution_count": 29,
   "id": "bdcb6265",
   "metadata": {},
   "outputs": [
    {
     "name": "stdout",
     "output_type": "stream",
     "text": [
      "{'total': ['mean', 'min', 'max', 'sum'], 'speeding': ['mean', 'min', 'max', 'sum'], 'alcohol': ['mean', 'min', 'max', 'sum'], 'not_distracted': ['mean', 'min', 'max', 'sum'], 'no_previous': ['mean', 'min', 'max', 'sum'], 'ins_premium': ['mean', 'min', 'max', 'sum'], 'ins_losses': ['mean', 'min', 'max', 'sum']}\n"
     ]
    }
   ],
   "source": [
    "soz = {} #sözlüğün key değerlerine değişken, value değerlerine agg_list listesini basalım\n",
    "agg_list = [\"mean\", \"min\", \"max\", \"sum\"]\n",
    "\n",
    "#Uzun yol\n",
    "\n",
    "for col in num_cols:\n",
    "    soz[col] = agg_list\n",
    "\n",
    "#numerik kolonlarda gezen for döngüsünde\n",
    "# sözlüğün key değerlerine köşeli parantezle sütunları(col) ekle, bunlar num_cols'dan gelen değişkenler\n",
    "# value bölümüne sabit liste bas\n",
    "print(soz)\n",
    "\n",
    "#özet:eğer bir dataframe'e köşeli parantez girip\n",
    "# bir değişken listesi verirsem, bu dataframe içinden bu değişkenleri seçer"
   ]
  },
  {
   "cell_type": "code",
   "execution_count": null,
   "id": "2cd1097b",
   "metadata": {},
   "outputs": [],
   "source": [
    "#Kısa yol\n",
    "{col: agg_list for col in num_cols} #değişen kısım sol, sabit sağ"
   ]
  },
  {
   "cell_type": "code",
   "execution_count": 30,
   "id": "49cfe5c2",
   "metadata": {},
   "outputs": [
    {
     "data": {
      "text/html": [
       "<div>\n",
       "<style scoped>\n",
       "    .dataframe tbody tr th:only-of-type {\n",
       "        vertical-align: middle;\n",
       "    }\n",
       "\n",
       "    .dataframe tbody tr th {\n",
       "        vertical-align: top;\n",
       "    }\n",
       "\n",
       "    .dataframe thead th {\n",
       "        text-align: right;\n",
       "    }\n",
       "</style>\n",
       "<table border=\"1\" class=\"dataframe\">\n",
       "  <thead>\n",
       "    <tr style=\"text-align: right;\">\n",
       "      <th></th>\n",
       "      <th>total</th>\n",
       "      <th>speeding</th>\n",
       "      <th>alcohol</th>\n",
       "      <th>not_distracted</th>\n",
       "      <th>no_previous</th>\n",
       "      <th>ins_premium</th>\n",
       "      <th>ins_losses</th>\n",
       "    </tr>\n",
       "  </thead>\n",
       "  <tbody>\n",
       "    <tr>\n",
       "      <th>mean</th>\n",
       "      <td>15.790196</td>\n",
       "      <td>4.998196</td>\n",
       "      <td>4.886784</td>\n",
       "      <td>13.573176</td>\n",
       "      <td>14.004882</td>\n",
       "      <td>886.957647</td>\n",
       "      <td>134.493137</td>\n",
       "    </tr>\n",
       "    <tr>\n",
       "      <th>min</th>\n",
       "      <td>5.900000</td>\n",
       "      <td>1.792000</td>\n",
       "      <td>1.593000</td>\n",
       "      <td>1.760000</td>\n",
       "      <td>5.900000</td>\n",
       "      <td>641.960000</td>\n",
       "      <td>82.750000</td>\n",
       "    </tr>\n",
       "    <tr>\n",
       "      <th>max</th>\n",
       "      <td>23.900000</td>\n",
       "      <td>9.450000</td>\n",
       "      <td>10.038000</td>\n",
       "      <td>23.661000</td>\n",
       "      <td>21.280000</td>\n",
       "      <td>1301.520000</td>\n",
       "      <td>194.780000</td>\n",
       "    </tr>\n",
       "    <tr>\n",
       "      <th>sum</th>\n",
       "      <td>805.300000</td>\n",
       "      <td>254.908000</td>\n",
       "      <td>249.226000</td>\n",
       "      <td>692.232000</td>\n",
       "      <td>714.249000</td>\n",
       "      <td>45234.840000</td>\n",
       "      <td>6859.150000</td>\n",
       "    </tr>\n",
       "  </tbody>\n",
       "</table>\n",
       "</div>"
      ],
      "text/plain": [
       "           total    speeding     alcohol  not_distracted  no_previous  \\\n",
       "mean   15.790196    4.998196    4.886784       13.573176    14.004882   \n",
       "min     5.900000    1.792000    1.593000        1.760000     5.900000   \n",
       "max    23.900000    9.450000   10.038000       23.661000    21.280000   \n",
       "sum   805.300000  254.908000  249.226000      692.232000   714.249000   \n",
       "\n",
       "       ins_premium   ins_losses  \n",
       "mean    886.957647   134.493137  \n",
       "min     641.960000    82.750000  \n",
       "max    1301.520000   194.780000  \n",
       "sum   45234.840000  6859.150000  "
      ]
     },
     "execution_count": 30,
     "metadata": {},
     "output_type": "execute_result"
    }
   ],
   "source": [
    "#EK:\n",
    "new_dict = {col: agg_list for col in num_cols}\n",
    "\n",
    "df[num_cols].head() #head metodu bir datadrame'in ilk gözlemine erişir\n",
    "df[num_cols].agg(new_dict)\n",
    "\n",
    "#eğer agg fonksiyonuna bu şekilde bir sözlük gönderilirse\n",
    "# ve agg fonksiyonuna bu şekilde bir df'e uygulanırsa\n",
    "# gönderilen sözlüğün içindeki değişkenler\n",
    "# eğer eldeki df'de varsa\n",
    "# bu değişkenleri key bölümünden tutar, valu bölümüne girilen bütün fonksiyonlara otomatik uygular\n"
   ]
  },
  {
   "cell_type": "code",
   "execution_count": 31,
   "id": "13a80731",
   "metadata": {},
   "outputs": [
    {
     "name": "stdout",
     "output_type": "stream",
     "text": [
      "    total  speeding  alcohol  not_distracted  no_previous  ins_premium  \\\n",
      "0    18.8     7.332    5.640          18.048       15.040       784.55   \n",
      "1    18.1     7.421    4.525          16.290       17.014      1053.48   \n",
      "2    18.6     6.510    5.208          15.624       17.856       899.47   \n",
      "3    22.4     4.032    5.824          21.056       21.280       827.34   \n",
      "4    12.0     4.200    3.360          10.920       10.680       878.41   \n",
      "5    13.6     5.032    3.808          10.744       12.920       835.50   \n",
      "6    10.8     4.968    3.888           9.396        8.856      1068.73   \n",
      "7    16.2     6.156    4.860          14.094       16.038      1137.87   \n",
      "8     5.9     2.006    1.593           5.900        5.900      1273.89   \n",
      "9    17.9     3.759    5.191          16.468       16.826      1160.13   \n",
      "10   15.6     2.964    3.900          14.820       14.508       913.15   \n",
      "11   17.5     9.450    7.175          14.350       15.225       861.18   \n",
      "12   15.3     5.508    4.437          13.005       14.994       641.96   \n",
      "13   12.8     4.608    4.352          12.032       12.288       803.11   \n",
      "14   14.5     3.625    4.205          13.775       13.775       710.46   \n",
      "15   15.7     2.669    3.925          15.229       13.659       649.06   \n",
      "16   17.8     4.806    4.272          13.706       15.130       780.45   \n",
      "17   21.4     4.066    4.922          16.692       16.264       872.51   \n",
      "18   20.5     7.175    6.765          14.965       20.090      1281.55   \n",
      "19   15.1     5.738    4.530          13.137       12.684       661.88   \n",
      "20   12.5     4.250    4.000           8.875       12.375      1048.78   \n",
      "21    8.2     1.886    2.870           7.134        6.560      1011.14   \n",
      "22   14.1     3.384    3.948          13.395       10.857      1110.61   \n",
      "23    9.6     2.208    2.784           8.448        8.448       777.18   \n",
      "24   17.6     2.640    5.456           1.760       17.600       896.07   \n",
      "25   16.1     6.923    5.474          14.812       13.524       790.32   \n",
      "26   21.4     8.346    9.416          17.976       18.190       816.21   \n",
      "27   14.9     1.937    5.215          13.857       13.410       732.28   \n",
      "28   14.7     5.439    4.704          13.965       14.553      1029.87   \n",
      "29   11.6     4.060    3.480          10.092        9.628       746.54   \n",
      "30   11.2     1.792    3.136           9.632        8.736      1301.52   \n",
      "31   18.4     3.496    4.968          12.328       18.032       869.85   \n",
      "32   12.3     3.936    3.567          10.824        9.840      1234.31   \n",
      "33   16.8     6.552    5.208          15.792       13.608       708.24   \n",
      "34   23.9     5.497   10.038          23.661       20.554       688.75   \n",
      "35   14.1     3.948    4.794          13.959       11.562       697.73   \n",
      "36   19.9     6.368    5.771          18.308       18.706       881.51   \n",
      "37   12.8     4.224    3.328           8.576       11.520       804.71   \n",
      "38   18.2     9.100    5.642          17.472       16.016       905.99   \n",
      "39   11.1     3.774    4.218          10.212        8.769      1148.99   \n",
      "40   23.9     9.082    9.799          22.944       19.359       858.97   \n",
      "41   19.4     6.014    6.402          19.012       16.684       669.31   \n",
      "42   19.5     4.095    5.655          15.990       15.795       767.91   \n",
      "43   19.4     7.760    7.372          17.654       16.878      1004.75   \n",
      "44   11.3     4.859    1.808           9.944       10.848       809.38   \n",
      "45   13.6     4.080    4.080          13.056       12.920       716.20   \n",
      "46   12.7     2.413    3.429          11.049       11.176       768.95   \n",
      "47   10.6     4.452    3.498           8.692        9.116       890.03   \n",
      "48   23.8     8.092    6.664          23.086       20.706       992.61   \n",
      "49   13.8     4.968    4.554           5.382       11.592       670.31   \n",
      "50   17.4     7.308    5.568          14.094       15.660       791.14   \n",
      "\n",
      "    ins_losses abbrev  \n",
      "0       145.08     AL  \n",
      "1       133.93     AK  \n",
      "2       110.35     AZ  \n",
      "3       142.39     AR  \n",
      "4       165.63     CA  \n",
      "5       139.91     CO  \n",
      "6       167.02     CT  \n",
      "7       151.48     DE  \n",
      "8       136.05     DC  \n",
      "9       144.18     FL  \n",
      "10      142.80     GA  \n",
      "11      120.92     HI  \n",
      "12       82.75     ID  \n",
      "13      139.15     IL  \n",
      "14      108.92     IN  \n",
      "15      114.47     IA  \n",
      "16      133.80     KS  \n",
      "17      137.13     KY  \n",
      "18      194.78     LA  \n",
      "19       96.57     ME  \n",
      "20      192.70     MD  \n",
      "21      135.63     MA  \n",
      "22      152.26     MI  \n",
      "23      133.35     MN  \n",
      "24      155.77     MS  \n",
      "25      144.45     MO  \n",
      "26       85.15     MT  \n",
      "27      114.82     NE  \n",
      "28      138.71     NV  \n",
      "29      120.21     NH  \n",
      "30      159.85     NJ  \n",
      "31      120.75     NM  \n",
      "32      150.01     NY  \n",
      "33      127.82     NC  \n",
      "34      109.72     ND  \n",
      "35      133.52     OH  \n",
      "36      178.86     OK  \n",
      "37      104.61     OR  \n",
      "38      153.86     PA  \n",
      "39      148.58     RI  \n",
      "40      116.29     SC  \n",
      "41       96.87     SD  \n",
      "42      155.57     TN  \n",
      "43      156.83     TX  \n",
      "44      109.48     UT  \n",
      "45      109.61     VT  \n",
      "46      153.72     VA  \n",
      "47      111.62     WA  \n",
      "48      152.56     WV  \n",
      "49      106.62     WI  \n",
      "50      122.04     WY  \n"
     ]
    }
   ],
   "source": [
    "print(df)"
   ]
  },
  {
   "cell_type": "code",
   "execution_count": 27,
   "id": "39ee2bd6",
   "metadata": {
    "scrolled": false
   },
   "outputs": [
    {
     "name": "stdout",
     "output_type": "stream",
     "text": [
      "           total    speeding     alcohol  not_distracted  no_previous  \\\n",
      "mean   15.790196    4.998196    4.886784       13.573176    14.004882   \n",
      "min     5.900000    1.792000    1.593000        1.760000     5.900000   \n",
      "max    23.900000    9.450000   10.038000       23.661000    21.280000   \n",
      "sum   805.300000  254.908000  249.226000      692.232000   714.249000   \n",
      "\n",
      "       ins_premium   ins_losses  \n",
      "mean    886.957647   134.493137  \n",
      "min     641.960000    82.750000  \n",
      "max    1301.520000   194.780000  \n",
      "sum   45234.840000  6859.150000  \n"
     ]
    }
   ],
   "source": [
    "print(df[num_cols].agg(new_dict))"
   ]
  },
  {
   "cell_type": "code",
   "execution_count": 32,
   "id": "3aa5bb4f",
   "metadata": {},
   "outputs": [
    {
     "data": {
      "text/plain": [
       "[('denise', 20), ('jean', 32), ('fleur', 45)]"
      ]
     },
     "execution_count": 32,
     "metadata": {},
     "output_type": "execute_result"
    }
   ],
   "source": [
    "#snacks\n",
    "\n",
    "names = [\"denise\", \"jean\", \"fleur\"]\n",
    "ages = [20, 32, 45]\n",
    "cities = [\"lyon\", \"little\", \"nantes\"]\n",
    "\n",
    "list(zip(names, ages))\n",
    "\n",
    "#zip, farklı iterable'ları(liste,demet vb.) bireştirerek zip nesnesi oluşturur\n",
    "# bu nesne, her iterable'daki aynı indeksli öğeleri birleştirir\n",
    "# bu öğeleri bir tuple olarak döndürür"
   ]
  },
  {
   "cell_type": "code",
   "execution_count": 40,
   "id": "f7182cb0",
   "metadata": {},
   "outputs": [
    {
     "data": {
      "text/plain": [
       "[1200.0, 2400.0, 3600.0, 4800.0, 6000.0]"
      ]
     },
     "execution_count": 40,
     "metadata": {},
     "output_type": "execute_result"
    }
   ],
   "source": [
    "wages = [1000, 2000, 3000, 4000, 5000]\n",
    "\n",
    "new_wages = lambda x: x*0.20 + x \n",
    "\n",
    "#lambda; kısa ve tek satırlık bir fonksiyon tanımı yapmak için kullanılır\n",
    "# lambda fonksiyonu, bir maaş değeri alır ve o maaşın %20 artışlı halini döndürür\n",
    "\n",
    "list(map(new_wages, wages))\n",
    "\n",
    "#özet; lambda, new_wages fonksiyonunu tek satırda tanımlamaya yaradı\n",
    "# map fonksiyonu, belirtilen fonksiyonu listenin her bir öğese uygular"
   ]
  },
  {
   "cell_type": "code",
   "execution_count": 37,
   "id": "745e581c",
   "metadata": {},
   "outputs": [
    {
     "name": "stdout",
     "output_type": "stream",
     "text": [
      "['d', 'a', 't', 'a']\n"
     ]
    }
   ],
   "source": [
    "students = [\"Denise\", \"Arsen\", \"Tony\", \"Audrey\"]\n",
    "\n",
    "low = lambda x:x[0].lower() #kelimeyi küçük harfe çevir, ilk harfini döndür\n",
    "\n",
    "print(list(map(low,students))) #her öğrencinin adı low fonksiyonuna gider, sonuçlardan liste ekrana yazdır"
   ]
  },
  {
   "cell_type": "markdown",
   "id": "c4011c41",
   "metadata": {},
   "source": [
    "### lambda\n",
    "python programlama dilinde kısa ve tek satırlık fonksiyonları tanımlar;\n",
    "bir fonksiyon adı tamamlamadan, bir fonksiyonun yapacağı işlevi açıklayan ifadeyi belirtir\n",
    "\n",
    "lambda genellikle map,filter,reduce fonksiyonlarıyla kullanılır;\n",
    "bu fonksiyonlar listedeki her öğe için lambda ifadesini çağırır\n",
    "sonuçları liste olarak döndürür"
   ]
  },
  {
   "cell_type": "code",
   "execution_count": 41,
   "id": "0b9e73a3",
   "metadata": {},
   "outputs": [
    {
     "name": "stdout",
     "output_type": "stream",
     "text": [
      "26\n"
     ]
    }
   ],
   "source": [
    "sum = lambda x: x + 22 #sum lambda fonksiyonu tanımlar, \n",
    "# lambda x argümanını alıp x+22 işlemini döndürür\n",
    "# fonksiyon normal bir fonksiyon gibi çağırılabilir\n",
    "print(sum(4))"
   ]
  },
  {
   "cell_type": "code",
   "execution_count": 38,
   "id": "98fd9d9c",
   "metadata": {},
   "outputs": [
    {
     "data": {
      "text/plain": [
       "{'Denise': 23, 'Arsen': 27, 'Tony': 33, 'Audrey': 37}"
      ]
     },
     "execution_count": 38,
     "metadata": {},
     "output_type": "execute_result"
    }
   ],
   "source": [
    "dict = {\"Denise\": 10, \"Arsen\": 12, \"Tony\":15, \"Audrey\": 17}\n",
    "\n",
    "new_dict = {k: v*2+3 for (k,v) in dict.items()} #sözlükte anahtar,değer çifti olarak saklanır; (k,v)\n",
    "\n",
    "new_dict"
   ]
  },
  {
   "cell_type": "code",
   "execution_count": 39,
   "id": "50c63b0b",
   "metadata": {},
   "outputs": [
    {
     "data": {
      "text/plain": [
       "{1: 1, 3: 9, 5: 25, 7: 49, 9: 81}"
      ]
     },
     "execution_count": 39,
     "metadata": {},
     "output_type": "execute_result"
    }
   ],
   "source": [
    "numbers = range(1,10) #sayı dizileri için\n",
    "\n",
    "{n: n**2 for n in numbers if n%2 != 0}"
   ]
  }
 ],
 "metadata": {
  "kernelspec": {
   "display_name": "Python 3 (ipykernel)",
   "language": "python",
   "name": "python3"
  },
  "language_info": {
   "codemirror_mode": {
    "name": "ipython",
    "version": 3
   },
   "file_extension": ".py",
   "mimetype": "text/x-python",
   "name": "python",
   "nbconvert_exporter": "python",
   "pygments_lexer": "ipython3",
   "version": "3.9.13"
  }
 },
 "nbformat": 4,
 "nbformat_minor": 5
}
