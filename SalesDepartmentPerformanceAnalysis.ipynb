{
 "cells": [
  {
   "cell_type": "code",
   "execution_count": 1,
   "id": "47a57359",
   "metadata": {},
   "outputs": [],
   "source": [
    "filepath=\"employee_revenue.txt\""
   ]
  },
  {
   "cell_type": "code",
   "execution_count": 2,
   "id": "dfe90591",
   "metadata": {},
   "outputs": [],
   "source": [
    "#open the file in read mode\n",
    "with open(filepath, \"r\") as file:\n",
    "    data=file.read()"
   ]
  },
  {
   "cell_type": "code",
   "execution_count": 3,
   "id": "4cb91270",
   "metadata": {},
   "outputs": [
    {
     "name": "stdout",
     "output_type": "stream",
     "text": [
      "  Ben made 300 calls and generated 2400 dollars last Month with an 8$ average deal size.  \n",
      "omer called 10 times and Sold 2 courses generated 60 dollars last month with a 6$ average deal size.\n",
      "   KAren called 500 people and achieved success by GETting 24$ average deal size, got 12000 dollars revenue.     \n",
      "Celine with 70 calls, made 2275 dollars and 32$ average deal size IN the previous month.  \n",
      "     Sue called 100 people and earned 500 Dollars in REvenue and an AVERAGE DEAL SIZE of 5$ Last month.\n",
      "Bora called 100 people generated 770 dollars last month, his average deal size was 25$.  \n",
      "Rose made 600 phone calls and GENERATING 4000 dollars a past month 25$ average deal SIZE. \n",
      "Ellen made 800 calls and generated 6000 dollars a prior mONTH and reached 40$ the average deal size. \n",
      " bob made 200 phone calls, helped to make a proGress and generated 800 dollars LAST MONTH and gaining 15$ average deal size.\n",
      "Taylor, with 450 calls generated 1200 dollars in revenue pASt month, and the average deal size was 10$. \n",
      "  JuDE made 80 calls and earned 500 dollars for the company last month, her average deal size was 12$.\n"
     ]
    }
   ],
   "source": [
    "print(data)"
   ]
  },
  {
   "cell_type": "code",
   "execution_count": 4,
   "id": "8f93302f",
   "metadata": {},
   "outputs": [
    {
     "name": "stdout",
     "output_type": "stream",
     "text": [
      "['  Ben made 300 calls and generated 2400 dollars last Month with an 8$ average deal size.  ', 'omer called 10 times and Sold 2 courses generated 60 dollars last month with a 6$ average deal size.', '   KAren called 500 people and achieved success by GETting 24$ average deal size, got 12000 dollars revenue.     ', 'Celine with 70 calls, made 2275 dollars and 32$ average deal size IN the previous month.  ', '     Sue called 100 people and earned 500 Dollars in REvenue and an AVERAGE DEAL SIZE of 5$ Last month.', 'Bora called 100 people generated 770 dollars last month, his average deal size was 25$.  ', 'Rose made 600 phone calls and GENERATING 4000 dollars a past month 25$ average deal SIZE. ', 'Ellen made 800 calls and generated 6000 dollars a prior mONTH and reached 40$ the average deal size. ', ' bob made 200 phone calls, helped to make a proGress and generated 800 dollars LAST MONTH and gaining 15$ average deal size.', 'Taylor, with 450 calls generated 1200 dollars in revenue pASt month, and the average deal size was 10$. ', '  JuDE made 80 calls and earned 500 dollars for the company last month, her average deal size was 12$.']\n"
     ]
    }
   ],
   "source": [
    "#seperate the data into lines\n",
    "lines=data.splitlines()\n",
    "print(lines)"
   ]
  },
  {
   "cell_type": "code",
   "execution_count": 5,
   "id": "ca0a2296",
   "metadata": {},
   "outputs": [
    {
     "name": "stdout",
     "output_type": "stream",
     "text": [
      "  Ben made 300 calls and generated 2400 dollars last Month with an 8$ average deal size.  \n"
     ]
    }
   ],
   "source": [
    "#take the first line\n",
    "string=lines[0]\n",
    "print(string)"
   ]
  },
  {
   "cell_type": "code",
   "execution_count": 6,
   "id": "c52467f1",
   "metadata": {},
   "outputs": [
    {
     "name": "stdout",
     "output_type": "stream",
     "text": [
      "Ben made 300 calls and generated 2400 dollars last Month with an 8$ average deal size.\n"
     ]
    }
   ],
   "source": [
    "#remove the whitespaces from the edges\n",
    "string=string.strip(\" \")\n",
    "print(string)"
   ]
  },
  {
   "cell_type": "code",
   "execution_count": 7,
   "id": "9ed673f3",
   "metadata": {},
   "outputs": [
    {
     "data": {
      "text/plain": [
       "'ben made 300 calls and generated 2400 dollars last month with an 8$ average deal size.'"
      ]
     },
     "execution_count": 7,
     "metadata": {},
     "output_type": "execute_result"
    }
   ],
   "source": [
    "#convert the string to lowercase\n",
    "string=string.lower()\n",
    "string"
   ]
  },
  {
   "cell_type": "code",
   "execution_count": 8,
   "id": "9de158c5",
   "metadata": {},
   "outputs": [
    {
     "data": {
      "text/plain": [
       "'Ben made 300 calls and generated 2400 dollars last month with an 8$ average deal size.'"
      ]
     },
     "execution_count": 8,
     "metadata": {},
     "output_type": "execute_result"
    }
   ],
   "source": [
    "#capitalize the first character\n",
    "string=string.capitalize()\n",
    "string"
   ]
  },
  {
   "cell_type": "code",
   "execution_count": 9,
   "id": "64e5ead9",
   "metadata": {},
   "outputs": [
    {
     "data": {
      "text/plain": [
       "['Ben',\n",
       " 'made',\n",
       " '300',\n",
       " 'calls',\n",
       " 'and',\n",
       " 'generated',\n",
       " '2400',\n",
       " 'dollars',\n",
       " 'last',\n",
       " 'month',\n",
       " 'with',\n",
       " 'an',\n",
       " '8$',\n",
       " 'average',\n",
       " 'deal',\n",
       " 'size.']"
      ]
     },
     "execution_count": 9,
     "metadata": {},
     "output_type": "execute_result"
    }
   ],
   "source": [
    "#split the sentence into words\n",
    "split_string=string.split(\" \")\n",
    "split_string"
   ]
  },
  {
   "cell_type": "code",
   "execution_count": 10,
   "id": "ebd8d0ae",
   "metadata": {},
   "outputs": [
    {
     "data": {
      "text/plain": [
       "'Ben'"
      ]
     },
     "execution_count": 10,
     "metadata": {},
     "output_type": "execute_result"
    }
   ],
   "source": [
    "#use the index 0 to access to the name element\n",
    "name=split_string[0]\n",
    "name"
   ]
  },
  {
   "cell_type": "code",
   "execution_count": 11,
   "id": "6cfc24e9",
   "metadata": {},
   "outputs": [
    {
     "data": {
      "text/plain": [
       "'300'"
      ]
     },
     "execution_count": 11,
     "metadata": {},
     "output_type": "execute_result"
    }
   ],
   "source": [
    "#use the index 2 to access the number of calls elements\n",
    "call_number=split_string[2]\n",
    "call_number"
   ]
  },
  {
   "cell_type": "code",
   "execution_count": 12,
   "id": "c165931e",
   "metadata": {},
   "outputs": [
    {
     "data": {
      "text/plain": [
       "'8'"
      ]
     },
     "execution_count": 12,
     "metadata": {},
     "output_type": "execute_result"
    }
   ],
   "source": [
    "#find the element with the '$' sign\n",
    "for i in split_string:\n",
    "    #divide the number from it\n",
    "    if '$' in i:\n",
    "        average_deal_size=i.split(\"$\")[0]\n",
    "#print the average deal size\n",
    "average_deal_size"
   ]
  },
  {
   "cell_type": "code",
   "execution_count": 13,
   "id": "29b4de3b",
   "metadata": {},
   "outputs": [
    {
     "data": {
      "text/plain": [
       "7"
      ]
     },
     "execution_count": 13,
     "metadata": {},
     "output_type": "execute_result"
    }
   ],
   "source": [
    "#find the index of element \"dollars\"\n",
    "dollars_index = split_string.index(\"dollars\")\n",
    "dollars_index"
   ]
  },
  {
   "cell_type": "code",
   "execution_count": 14,
   "id": "50165ae7",
   "metadata": {},
   "outputs": [
    {
     "data": {
      "text/plain": [
       "6"
      ]
     },
     "execution_count": 14,
     "metadata": {},
     "output_type": "execute_result"
    }
   ],
   "source": [
    "#subtract one from the index to identity the index of the revenue element\n",
    "revenue_index = dollars_index - 1\n",
    "revenue_index"
   ]
  },
  {
   "cell_type": "code",
   "execution_count": 15,
   "id": "cd3eadfc",
   "metadata": {},
   "outputs": [
    {
     "data": {
      "text/plain": [
       "'2400'"
      ]
     },
     "execution_count": 15,
     "metadata": {},
     "output_type": "execute_result"
    }
   ],
   "source": [
    "#extract the revenue\n",
    "revenue = split_string[revenue_index]\n",
    "revenue"
   ]
  },
  {
   "cell_type": "code",
   "execution_count": 16,
   "id": "a73e005a",
   "metadata": {},
   "outputs": [
    {
     "name": "stdout",
     "output_type": "stream",
     "text": [
      "Name: Ben\n",
      "Number of calls: 300\n",
      "Average deal size: 8\n",
      "Revenue: 2400\n"
     ]
    }
   ],
   "source": [
    "#print out the extracted information\n",
    "print(\"Name:\", name)\n",
    "print(\"Number of calls:\", call_number)\n",
    "print(\"Average deal size:\", average_deal_size)\n",
    "print(\"Revenue:\", revenue)"
   ]
  },
  {
   "cell_type": "code",
   "execution_count": 17,
   "id": "6f4c4abc",
   "metadata": {},
   "outputs": [
    {
     "name": "stdout",
     "output_type": "stream",
     "text": [
      "Name type: <class 'str'>\n",
      "Number of calls type: <class 'str'>\n",
      "Average deal size type: <class 'str'>\n",
      "Revenue type: <class 'str'>\n"
     ]
    }
   ],
   "source": [
    "#check the types\n",
    "print(\"Name type:\", type(name))\n",
    "print(\"Number of calls type:\", type(call_number))\n",
    "print(\"Average deal size type:\", type(average_deal_size))\n",
    "print(\"Revenue type:\", type(revenue))"
   ]
  },
  {
   "cell_type": "code",
   "execution_count": 18,
   "id": "579d3b18",
   "metadata": {},
   "outputs": [],
   "source": [
    "#convert the datatypes of average deal size, number of calls, and revenue\n",
    "average_deal_size = int(average_deal_size)\n",
    "call_number = int(call_number)\n",
    "revenue = int(revenue)"
   ]
  },
  {
   "cell_type": "code",
   "execution_count": 19,
   "id": "47b65c69",
   "metadata": {},
   "outputs": [
    {
     "name": "stdout",
     "output_type": "stream",
     "text": [
      "Name type: <class 'str'>\n",
      "Number of calls type: <class 'int'>\n",
      "Average deal size type: <class 'int'>\n",
      "Revenue type: <class 'int'>\n"
     ]
    }
   ],
   "source": [
    "#print out the information again\n",
    "print(\"Name type:\", type(name))\n",
    "print(\"Number of calls type:\", type(call_number))\n",
    "print(\"Average deal size type:\", type(average_deal_size))\n",
    "print(\"Revenue type:\", type(revenue))"
   ]
  },
  {
   "cell_type": "code",
   "execution_count": 20,
   "id": "a823de52",
   "metadata": {},
   "outputs": [],
   "source": [
    "#create empty lists for the names, number of calls, average deal sizes, revenues\n",
    "names = []\n",
    "call_numbers = []\n",
    "average_deal_sizes = []\n",
    "revenues = []"
   ]
  },
  {
   "cell_type": "code",
   "execution_count": 55,
   "id": "ab1538dd",
   "metadata": {},
   "outputs": [
    {
     "name": "stdout",
     "output_type": "stream",
     "text": [
      "Names: ['Ben', 'Omer', 'Karen', 'Celine', 'Sue', 'Bora', 'Rose', 'Ellen', 'Bob', 'Taylor,', 'Jude']\n",
      "Number of calls [300, 10, 500, 70, 100, 100, 600, 800, 200, 450, 80]\n",
      "Average deal size: [8, 6, 24, 32, 5, 25, 25, 40, 15, 10, 12]\n",
      "Revenues: [2400, 60, 12000, 2275, 500, 770, 4000, 6000, 800, 1200, 500]\n"
     ]
    }
   ],
   "source": [
    "#loop over the whole data\n",
    "for employee in lines:\n",
    "    \n",
    "    #clean the string\n",
    "    employee = employee.strip(\" \")\n",
    "    employee =  employee.lower()\n",
    "    employee = employee.capitalize()\n",
    "\n",
    "    #split the clean string\n",
    "    split_employee = employee.split(\" \")\n",
    "\n",
    "    #extract the name\n",
    "    name = split_employee[0]\n",
    "    call_number = split_employee[2]\n",
    "\n",
    "    #extract the average deal size\n",
    "    for i in split_employee:\n",
    "        if \"$\" in i:\n",
    "            average_deal_size = i\n",
    "    average_deal_size = average_deal_size.split(\"$\")[0]\n",
    "\n",
    "    #extract the revenue\n",
    "    dollars_index = split_employee.index(\"dollars\")\n",
    "    revenue_index = dollars_index - 1\n",
    "    revenue = split_employee[revenue_index]\n",
    "\n",
    "    #convert to the correct data types\n",
    "    average_deal_size = int(average_deal_size)\n",
    "    call_number = int(call_number)\n",
    "    revenue = int(revenue)\n",
    "    \n",
    "    #append the information to the lists\n",
    "    names.append(name)\n",
    "    call_numbers.append(call_number)\n",
    "    average_deal_sizes.append(average_deal_size)\n",
    "    revenues.append(revenue)\n",
    "    \n",
    "#print out the information\n",
    "print(\"Names:\", names)\n",
    "print(\"Number of calls\", call_numbers)\n",
    "print(\"Average deal size:\", average_deal_sizes)\n",
    "print(\"Revenues:\", revenues)"
   ]
  },
  {
   "cell_type": "code",
   "execution_count": 69,
   "id": "2c6eabf9",
   "metadata": {},
   "outputs": [],
   "source": [
    "#create empyt lists again\n",
    "names = []\n",
    "call_numbers = []\n",
    "average_deal_sizes = []\n",
    "revenues = []"
   ]
  },
  {
   "cell_type": "code",
   "execution_count": 70,
   "id": "59c80568",
   "metadata": {},
   "outputs": [],
   "source": [
    "#define a function to clean and extract the data\n",
    "def clean_extract(lines):\n",
    "    for employee in lines:\n",
    "        \n",
    "        employee=employee.strip(\" \")\n",
    "        employee=employee.lower()\n",
    "        employee=employee.capitalize()\n",
    "        \n",
    "        split_employee=employee.split(\" \")\n",
    "        \n",
    "        name=split_employee[0]\n",
    "        call_number=split_employee[2]\n",
    "        \n",
    "        for i in split_employee:\n",
    "            if \"$\" in i:\n",
    "                average_deal_size=i\n",
    "                average_deal_size=average_deal_size.split(\"$\")[0]\n",
    "                \n",
    "        dollars_index=split_employee.index(\"dollars\")\n",
    "        revenue_index=dollars_index-1\n",
    "        revenue=split_employee[revenue_index]\n",
    "        \n",
    "        average_deal_size=int(average_deal_size)\n",
    "        call_number=int(call_number)\n",
    "        revenue=int(revenue)\n",
    "        \n",
    "        names.append(name)\n",
    "        call_numbers.append(call_number)\n",
    "        average_deal_sizes.append(average_deal_size)\n",
    "        revenues.append(revenue)\n",
    "    \n",
    "    return names, call_numbers, average_deal_sizes, revenues"
   ]
  },
  {
   "cell_type": "code",
   "execution_count": 71,
   "id": "5405f222",
   "metadata": {},
   "outputs": [],
   "source": [
    "#assign returned values to variables\n",
    "names, call_numbers, average_deal_sizes, revenues = clean_extract(lines)"
   ]
  },
  {
   "cell_type": "code",
   "execution_count": 72,
   "id": "53c0f160",
   "metadata": {},
   "outputs": [
    {
     "name": "stdout",
     "output_type": "stream",
     "text": [
      "Names: ['Ben', 'Omer', 'Karen', 'Celine', 'Sue', 'Bora', 'Rose', 'Ellen', 'Bob', 'Taylor,', 'Jude']\n",
      "Number of calls: [300, 10, 500, 70, 100, 100, 600, 800, 200, 450, 80]\n",
      "Average deal sizes: [8, 6, 24, 32, 5, 25, 25, 40, 15, 10, 12]\n",
      "Revenues: [2400, 60, 12000, 2275, 500, 770, 4000, 6000, 800, 1200, 500]\n"
     ]
    }
   ],
   "source": [
    "#print out the information\n",
    "print(\"Names:\", names)\n",
    "print(\"Number of calls:\", call_numbers)\n",
    "print(\"Average deal sizes:\", average_deal_sizes)\n",
    "print(\"Revenues:\", revenues)"
   ]
  },
  {
   "cell_type": "code",
   "execution_count": null,
   "id": "dd43b8d4",
   "metadata": {},
   "outputs": [],
   "source": [
    "#check the number of employees\n",
    "print(len(names))"
   ]
  },
  {
   "cell_type": "code",
   "execution_count": 73,
   "id": "9f617e77",
   "metadata": {},
   "outputs": [
    {
     "name": "stdout",
     "output_type": "stream",
     "text": [
      "[0, 1, 2, 3, 4, 5, 6, 7, 8, 9, 10]\n"
     ]
    }
   ],
   "source": [
    "#generate IDs\n",
    "IDs=list(range(0,11))\n",
    "print(IDs)"
   ]
  },
  {
   "cell_type": "code",
   "execution_count": 76,
   "id": "6ee4da55",
   "metadata": {},
   "outputs": [
    {
     "data": {
      "text/plain": [
       "11"
      ]
     },
     "execution_count": 76,
     "metadata": {},
     "output_type": "execute_result"
    }
   ],
   "source": [
    "#check the number of IDs\n",
    "len(IDs)"
   ]
  },
  {
   "cell_type": "code",
   "execution_count": 77,
   "id": "2849bd21",
   "metadata": {},
   "outputs": [
    {
     "data": {
      "text/plain": [
       "{0: 'Ben',\n",
       " 1: 'Omer',\n",
       " 2: 'Karen',\n",
       " 3: 'Celine',\n",
       " 4: 'Sue',\n",
       " 5: 'Bora',\n",
       " 6: 'Rose',\n",
       " 7: 'Ellen',\n",
       " 8: 'Bob',\n",
       " 9: 'Taylor,',\n",
       " 10: 'Jude'}"
      ]
     },
     "execution_count": 77,
     "metadata": {},
     "output_type": "execute_result"
    }
   ],
   "source": [
    "#pair the names with the IDs in a dictionary\n",
    "dictionary1=dict(zip(IDs,names))\n",
    "dictionary1"
   ]
  },
  {
   "cell_type": "code",
   "execution_count": 78,
   "id": "f2258b6a",
   "metadata": {},
   "outputs": [
    {
     "data": {
      "text/plain": [
       "{2400: 'Ben',\n",
       " 60: 'Omer',\n",
       " 12000: 'Karen',\n",
       " 2275: 'Celine',\n",
       " 500: 'Jude',\n",
       " 770: 'Bora',\n",
       " 4000: 'Rose',\n",
       " 6000: 'Ellen',\n",
       " 800: 'Bob',\n",
       " 1200: 'Taylor,'}"
      ]
     },
     "execution_count": 78,
     "metadata": {},
     "output_type": "execute_result"
    }
   ],
   "source": [
    "#pair the names with the revenues\n",
    "dictionary2=dict(zip(revenues,names))\n",
    "dictionary2"
   ]
  },
  {
   "cell_type": "code",
   "execution_count": 81,
   "id": "05334c43",
   "metadata": {},
   "outputs": [
    {
     "name": "stdout",
     "output_type": "stream",
     "text": [
      "Omer\n",
      "Jude\n",
      "Bora\n"
     ]
    }
   ],
   "source": [
    "#find the lowest performing employees(ascending order)\n",
    "sorted_dictionary=sorted(dictionary2)[0:3]\n",
    "\n",
    "for i in sorted_dictionary:\n",
    "    print(dictionary2[i])"
   ]
  },
  {
   "cell_type": "code",
   "execution_count": 82,
   "id": "5f848814",
   "metadata": {},
   "outputs": [
    {
     "name": "stdout",
     "output_type": "stream",
     "text": [
      "Karen\n",
      "Ellen\n",
      "Rose\n"
     ]
    }
   ],
   "source": [
    "##find the best performing employees(descending order)\n",
    "sorted_dictionary=sorted(dictionary2, reverse=True)[0:3]\n",
    "\n",
    "for i in sorted_dictionary:\n",
    "    print(dictionary2[i])"
   ]
  }
 ],
 "metadata": {
  "kernelspec": {
   "display_name": "Python 3 (ipykernel)",
   "language": "python",
   "name": "python3"
  },
  "language_info": {
   "codemirror_mode": {
    "name": "ipython",
    "version": 3
   },
   "file_extension": ".py",
   "mimetype": "text/x-python",
   "name": "python",
   "nbconvert_exporter": "python",
   "pygments_lexer": "ipython3",
   "version": "3.9.13"
  }
 },
 "nbformat": 4,
 "nbformat_minor": 5
}
