{
 "cells": [
  {
   "cell_type": "code",
   "execution_count": 10,
   "id": "43ccf5a8",
   "metadata": {},
   "outputs": [
    {
     "data": {
      "text/plain": [
       "array([ 242,  726, 1452, 2420])"
      ]
     },
     "execution_count": 10,
     "metadata": {},
     "output_type": "execute_result"
    }
   ],
   "source": [
    "#Numpy (numerical python)\n",
    "\n",
    "#hızlı, sabit tipte veri tutarak\n",
    "#yüksek(vektörel) seviyede işlem, az çaba çok iş\n",
    "\n",
    "import numpy as np #çağırmada kısa yol oluşturma\n",
    "\n",
    "x = np.array([11, 22, 33, 44])\n",
    "y = np.array([22, 33, 44, 55])\n",
    "\n",
    "x*y"
   ]
  },
  {
   "cell_type": "code",
   "execution_count": 6,
   "id": "3e0b26aa",
   "metadata": {},
   "outputs": [
    {
     "name": "stdout",
     "output_type": "stream",
     "text": [
      "[242, 726, 1452, 2420]\n"
     ]
    }
   ],
   "source": [
    "#for ile\n",
    "\n",
    "x = [11, 22, 33, 44]\n",
    "y = [22, 33, 44, 55]\n",
    "\n",
    "xy = []\n",
    "for i in range(0, len(x)):\n",
    "    xy.append(x[i]*y[i])\n",
    "    \n",
    "print(xy)\n",
    "\n",
    "#döngü yok, append metodu yok, boş liste olouşturup eleman yönlendirme yok"
   ]
  },
  {
   "cell_type": "code",
   "execution_count": 23,
   "id": "d69c7fd6",
   "metadata": {},
   "outputs": [
    {
     "data": {
      "text/plain": [
       "numpy.ndarray"
      ]
     },
     "execution_count": 23,
     "metadata": {},
     "output_type": "execute_result"
    }
   ],
   "source": [
    "#array oluşturma\n",
    "\n",
    "np.array([11, 22, 33, 44, 55])\n",
    "type(np.array([11, 22, 33, 44, 55])) #numpy array'i oldu\n",
    "                                     #herhangi bir yere atanmadığım için değişken kısmı boş"
   ]
  },
  {
   "cell_type": "code",
   "execution_count": 17,
   "id": "11804bb7",
   "metadata": {},
   "outputs": [
    {
     "data": {
      "text/plain": [
       "builtin_function_or_method"
      ]
     },
     "execution_count": 17,
     "metadata": {},
     "output_type": "execute_result"
    }
   ],
   "source": [
    "type(np.array)\n",
    "#python dilinde yerleşik bir fonk veya metot olduğunu gösterdi"
   ]
  },
  {
   "cell_type": "code",
   "execution_count": 18,
   "id": "8ad5e70a",
   "metadata": {},
   "outputs": [
    {
     "data": {
      "text/plain": [
       "array([0, 0, 0, 0, 0, 0, 0, 0, 0, 0])"
      ]
     },
     "execution_count": 18,
     "metadata": {},
     "output_type": "execute_result"
    }
   ],
   "source": [
    "np.zeros(10, dtype=int)"
   ]
  },
  {
   "cell_type": "code",
   "execution_count": 19,
   "id": "fe50a2e4",
   "metadata": {},
   "outputs": [
    {
     "data": {
      "text/plain": [
       "array([10, 20, 18,  7, 10,  8,  6, 11])"
      ]
     },
     "execution_count": 19,
     "metadata": {},
     "output_type": "execute_result"
    }
   ],
   "source": [
    "np.random.randint(4, 22, size=8) \n",
    "#random modülünden randint metodu(alt,üst limit,tane)"
   ]
  },
  {
   "cell_type": "code",
   "execution_count": 20,
   "id": "b72b0db5",
   "metadata": {},
   "outputs": [
    {
     "data": {
      "text/plain": [
       "array([[6.16397935, 5.15946934],\n",
       "       [1.53526407, 3.57514523]])"
      ]
     },
     "execution_count": 20,
     "metadata": {},
     "output_type": "execute_result"
    }
   ],
   "source": [
    "np.random.normal(4, 2, (2, 2))\n",
    "#istatiksel dağılıma göre(ort,stdev,sxs(boyut))\n"
   ]
  },
  {
   "cell_type": "code",
   "execution_count": 22,
   "id": "6c2e2c51",
   "metadata": {},
   "outputs": [
    {
     "name": "stdout",
     "output_type": "stream",
     "text": [
      "1\n",
      "(4,)\n",
      "4\n",
      "int32\n"
     ]
    }
   ],
   "source": [
    "x = np.random.randint(22, size=4) #başlangıç belirtilmediğinde '0'\n",
    "print(x.ndim) #boyut(1d)\n",
    "print(x.shape) #boyut bilgileri\n",
    "print(x.size) #toplam eleman\n",
    "print(x.dtype) #tip bilgisi"
   ]
  },
  {
   "cell_type": "code",
   "execution_count": 28,
   "id": "7217e0cf",
   "metadata": {},
   "outputs": [
    {
     "name": "stdout",
     "output_type": "stream",
     "text": [
      "[[7 3 6]]\n"
     ]
    },
    {
     "data": {
      "text/plain": [
       "array([[3],\n",
       "       [7],\n",
       "       [4]])"
      ]
     },
     "execution_count": 28,
     "metadata": {},
     "output_type": "execute_result"
    }
   ],
   "source": [
    "#yeniden şekillendirme\n",
    "\n",
    "print(np.random.randint(3, 9, (1,3)))\n",
    "p = np.random.randint(3, 9, (1,3)).reshape(3,1) #eleman sayıları önemli\n",
    "p.reshape(3, 1)"
   ]
  },
  {
   "cell_type": "code",
   "execution_count": 56,
   "id": "d13f54da",
   "metadata": {},
   "outputs": [
    {
     "name": "stdout",
     "output_type": "stream",
     "text": [
      "[array([20, 13,  0,  5])]\n"
     ]
    }
   ],
   "source": [
    "#index seçimi\n",
    "\n",
    "x = np.random.randint(22, size=4)\n",
    "print([x])"
   ]
  },
  {
   "cell_type": "code",
   "execution_count": 57,
   "id": "4fbb7465",
   "metadata": {},
   "outputs": [
    {
     "name": "stdout",
     "output_type": "stream",
     "text": [
      "777\n",
      "[array([ 20,  13, 777,   5])]\n",
      "[20 13]\n"
     ]
    }
   ],
   "source": [
    "x[2] = 777\n",
    "print(x[2])\n",
    "\n",
    "print([x])\n",
    "\n",
    "print(x[0:2]) #dilimleme"
   ]
  },
  {
   "cell_type": "code",
   "execution_count": 66,
   "id": "6237db84",
   "metadata": {},
   "outputs": [
    {
     "name": "stdout",
     "output_type": "stream",
     "text": [
      "[[33 36 64 45  4  7 31 44 49 29 61]\n",
      " [ 3 34 16 33  6  2 60 34 19 40  6]\n",
      " [52 44  8 63 60 21 64 20 15 43 10]\n",
      " [62 52  6 42 53 44 61 49 25  3 58]\n",
      " [ 2 14 44 28  0 64 50 13 53 48 12]]\n"
     ]
    }
   ],
   "source": [
    "y = np.random.randint(66, size=(5,11))\n",
    "print(y)"
   ]
  },
  {
   "cell_type": "code",
   "execution_count": 67,
   "id": "c6ae597a",
   "metadata": {},
   "outputs": [
    {
     "name": "stdout",
     "output_type": "stream",
     "text": [
      "8\n"
     ]
    }
   ],
   "source": [
    "y[2,2] #index ile değer çağırma\n",
    "print(y[2,2])"
   ]
  },
  {
   "cell_type": "code",
   "execution_count": 76,
   "id": "86758123",
   "metadata": {},
   "outputs": [
    {
     "name": "stdout",
     "output_type": "stream",
     "text": [
      "[[ 33  36  64  45   4   7  31  44  49  29  61]\n",
      " [  3  34  16  33   6   2  60  34  19  40   6]\n",
      " [ 52  44 777  63  60  21  64  20  15  43  10]\n",
      " [ 62  52   6  42  53  44  61  49  25   3  58]\n",
      " [  2  14  44  28   0  64  50  13  53  48  12]]\n"
     ]
    }
   ],
   "source": [
    "y[2,2] = 777\n",
    "print(y)\n",
    "\n",
    "#float değer, uyarı alır veya int döndürür, hız için tipler eş olmalı"
   ]
  },
  {
   "cell_type": "code",
   "execution_count": 77,
   "id": "7316e967",
   "metadata": {},
   "outputs": [
    {
     "data": {
      "text/plain": [
       "array([33,  3, 52, 62,  2])"
      ]
     },
     "execution_count": 77,
     "metadata": {},
     "output_type": "execute_result"
    }
   ],
   "source": [
    "y[:, 0] #bütün satır, index 0"
   ]
  },
  {
   "cell_type": "code",
   "execution_count": 78,
   "id": "4e459bf4",
   "metadata": {},
   "outputs": [
    {
     "data": {
      "text/plain": [
       "array([33, 36, 64, 45,  4,  7, 31, 44, 49, 29, 61])"
      ]
     },
     "execution_count": 78,
     "metadata": {},
     "output_type": "execute_result"
    }
   ],
   "source": [
    "y[0, :] #index 0, bütün sütun"
   ]
  },
  {
   "cell_type": "code",
   "execution_count": 82,
   "id": "57f8697a",
   "metadata": {},
   "outputs": [
    {
     "data": {
      "text/plain": [
       "array([[ 33,  36,  64,  45,   4,   7,  31,  44,  49,  29,  61],\n",
       "       [  3,  34,  16,  33,   6,   2,  60,  34,  19,  40,   6],\n",
       "       [ 52,  44, 777,  63,  60,  21,  64,  20,  15,  43,  10],\n",
       "       [ 62,  52,   6,  42,  53,  44,  61,  49,  25,   3,  58],\n",
       "       [  2,  14,  44,  28,   0,  64,  50,  13,  53,  48,  12]])"
      ]
     },
     "execution_count": 82,
     "metadata": {},
     "output_type": "execute_result"
    }
   ],
   "source": [
    "y[0:5,0:11] #dahillik"
   ]
  },
  {
   "cell_type": "code",
   "execution_count": 92,
   "id": "184c685d",
   "metadata": {},
   "outputs": [
    {
     "name": "stdout",
     "output_type": "stream",
     "text": [
      "[ 0  5 10 15 20 25 30 35 40 45]\n"
     ]
    },
    {
     "data": {
      "text/plain": [
       "array([15, 30, 45])"
      ]
     },
     "execution_count": 92,
     "metadata": {},
     "output_type": "execute_result"
    }
   ],
   "source": [
    "#fancy index\n",
    "\n",
    "t = np.arange(0,50, 5) #belirli bir adım boyunca array oluşturma\n",
    "print(t)\n",
    "\n",
    "hold = [3,6,9] #birden fazla index bilgisi girme\n",
    "\n",
    "t[hold] #numpy array'ine liste yerleştirme"
   ]
  },
  {
   "cell_type": "code",
   "execution_count": 4,
   "id": "ddd1cb4b",
   "metadata": {},
   "outputs": [
    {
     "name": "stdout",
     "output_type": "stream",
     "text": [
      "[23, 34]\n"
     ]
    }
   ],
   "source": [
    "import numpy as np\n",
    "\n",
    "#Koşullu işlemler\n",
    "\n",
    "h = np.array([23, 34, 45, 56])\n",
    "\n",
    "#for ile\n",
    "\n",
    "hp = []\n",
    "for i in h:\n",
    "    if i < 45:\n",
    "        hp.append(i)\n",
    "\n",
    "print(hp)"
   ]
  },
  {
   "cell_type": "code",
   "execution_count": 6,
   "id": "4a3b1a01",
   "metadata": {},
   "outputs": [
    {
     "name": "stdout",
     "output_type": "stream",
     "text": [
      "[ True  True False False]\n"
     ]
    },
    {
     "data": {
      "text/plain": [
       "array([23, 34])"
      ]
     },
     "execution_count": 6,
     "metadata": {},
     "output_type": "execute_result"
    }
   ],
   "source": [
    "#numpy ile\n",
    " #1. index çağırma,2. dilimleme,3. fancy seçim\n",
    "\n",
    "print(h < 45) #istenen komut\n",
    "h[h<45]"
   ]
  },
  {
   "cell_type": "code",
   "execution_count": 10,
   "id": "641b9888",
   "metadata": {},
   "outputs": [
    {
     "data": {
      "text/plain": [
       "array([ 9, 36, 81], dtype=int32)"
      ]
     },
     "execution_count": 10,
     "metadata": {},
     "output_type": "execute_result"
    }
   ],
   "source": [
    "#Matematiksel İşlemler\n",
    "\n",
    "b = np.array([3, 6, 9])\n",
    "\n",
    "b**2"
   ]
  },
  {
   "cell_type": "code",
   "execution_count": 13,
   "id": "a81afe21",
   "metadata": {},
   "outputs": [
    {
     "name": "stdout",
     "output_type": "stream",
     "text": [
      "[1 4 7]\n",
      "[ 6  9 12]\n",
      "6.0\n",
      "3\n",
      "9\n",
      "6.0\n",
      "18\n"
     ]
    }
   ],
   "source": [
    "print(np.subtract(b,2))\n",
    "print(np.add(b,3))\n",
    "print(np.mean(b))\n",
    "print(np.min(b))\n",
    "print(np.max(b))\n",
    "print(np.var(b))\n",
    "print(np.sum(b))"
   ]
  },
  {
   "cell_type": "code",
   "execution_count": 20,
   "id": "55fb5928",
   "metadata": {},
   "outputs": [
    {
     "data": {
      "text/plain": [
       "array([1.42857143, 2.85714286])"
      ]
     },
     "execution_count": 20,
     "metadata": {},
     "output_type": "execute_result"
    }
   ],
   "source": [
    "#denklem çözme\n",
    "\n",
    "#5*x0 + x1 = 10\n",
    "#x0 + 3*x1 = 10\n",
    "\n",
    "#değişkenler=x0,x1 değerleri x'e ata\n",
    "#sonuçlar=y1,y2 değerleri y'ye ata\n",
    "\n",
    "x = np.array([[5,1], [1,3]])\n",
    "y = np.array([10,10])\n",
    "\n",
    "np.linalg.solve(x,y)"
   ]
  }
 ],
 "metadata": {
  "kernelspec": {
   "display_name": "Python 3 (ipykernel)",
   "language": "python",
   "name": "python3"
  },
  "language_info": {
   "codemirror_mode": {
    "name": "ipython",
    "version": 3
   },
   "file_extension": ".py",
   "mimetype": "text/x-python",
   "name": "python",
   "nbconvert_exporter": "python",
   "pygments_lexer": "ipython3",
   "version": "3.9.13"
  }
 },
 "nbformat": 4,
 "nbformat_minor": 5
}
