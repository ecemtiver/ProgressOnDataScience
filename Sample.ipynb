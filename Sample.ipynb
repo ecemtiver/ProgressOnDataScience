{
 "cells": [
  {
   "cell_type": "code",
   "execution_count": 1,
   "id": "7ceff712",
   "metadata": {},
   "outputs": [
    {
     "name": "stdout",
     "output_type": "stream",
     "text": [
      "Java\n"
     ]
    }
   ],
   "source": [
    "class favLanguage:\n",
    "    def printLine(self, language=\"Python\"):\n",
    "        print(language)\n",
    "\n",
    "myObject = favLanguage()\n",
    "myObject.printLine(\"Java\")"
   ]
  },
  {
   "cell_type": "code",
   "execution_count": 2,
   "id": "18c570da",
   "metadata": {},
   "outputs": [
    {
     "name": "stdout",
     "output_type": "stream",
     "text": [
      "123\n"
     ]
    }
   ],
   "source": [
    "class Sales:\n",
    "    def __init__(self, id):\n",
    "        self.id = id \n",
    "        id = 100\n",
    "\n",
    "val = Sales(123)\n",
    "print(val.id)"
   ]
  },
  {
   "cell_type": "code",
   "execution_count": 3,
   "id": "21e68a43",
   "metadata": {},
   "outputs": [
    {
     "name": "stdout",
     "output_type": "stream",
     "text": [
      "1 1\n"
     ]
    }
   ],
   "source": [
    "class Point:\n",
    "    def __init__(self, x=0, y=0):\n",
    "        self.x=x+1\n",
    "        self.y=y+1\n",
    "        \n",
    "p1=Point()\n",
    "print(p1.x,p1.y)"
   ]
  },
  {
   "cell_type": "code",
   "execution_count": 4,
   "id": "afbee66d",
   "metadata": {},
   "outputs": [
    {
     "name": "stdout",
     "output_type": "stream",
     "text": [
      "Requirement already satisfied: numpy in c:\\users\\etive\\anaconda3\\lib\\site-packages (1.21.5)\n"
     ]
    }
   ],
   "source": [
    "!pip install numpy"
   ]
  },
  {
   "cell_type": "code",
   "execution_count": 5,
   "id": "3d642fe8",
   "metadata": {},
   "outputs": [],
   "source": [
    "import numpy as np"
   ]
  },
  {
   "cell_type": "code",
   "execution_count": 6,
   "id": "2bdc3e7a",
   "metadata": {},
   "outputs": [],
   "source": [
    "revenues = [20300, 400300, 50030]"
   ]
  },
  {
   "cell_type": "code",
   "execution_count": 7,
   "id": "0afd26e8",
   "metadata": {},
   "outputs": [
    {
     "name": "stdout",
     "output_type": "stream",
     "text": [
      "470630\n",
      "Execution Time: 0.0\n"
     ]
    }
   ],
   "source": [
    "import time\n",
    "\n",
    "initial_time = time.time()\n",
    "\n",
    "sum=0\n",
    "\n",
    "for i in revenues:\n",
    "    sum += i\n",
    "    \n",
    "print(sum)\n",
    "\n",
    "termination_time=time.time()\n",
    "\n",
    "print(\"Execution Time:\", termination_time - initial_time)"
   ]
  },
  {
   "cell_type": "code",
   "execution_count": 8,
   "id": "f8047ba0",
   "metadata": {},
   "outputs": [
    {
     "name": "stdout",
     "output_type": "stream",
     "text": [
      "470630\n",
      "Execution Time: 0.0\n"
     ]
    }
   ],
   "source": [
    "array=np.array(revenues)\n",
    "\n",
    "initial_time=time.time()\n",
    "\n",
    "sum=array.sum()\n",
    "print(sum)\n",
    "termination_time=time.time()\n",
    "\n",
    "print(\"Execution Time:\", termination_time - initial_time)"
   ]
  },
  {
   "cell_type": "code",
   "execution_count": 11,
   "id": "fa8cd181",
   "metadata": {},
   "outputs": [
    {
     "name": "stdout",
     "output_type": "stream",
     "text": [
      "[['Ecem' '24000']\n",
      " ['İrem' '60000']\n",
      " ['Mert' '120000']]\n"
     ]
    }
   ],
   "source": [
    "import numpy as np\n",
    "\n",
    "names = ['Ecem', 'İrem', 'Mert']\n",
    "revenues = [24000, 60000, 120000]\n",
    "\n",
    "names_array = np.array([names])\n",
    "\n",
    "data = np.concatenate((names_array.reshape(3,1), np.array([revenues]).T), axis=1)\n",
    "print(data) "
   ]
  },
  {
   "cell_type": "code",
   "execution_count": 16,
   "id": "b65d8f53",
   "metadata": {},
   "outputs": [
    {
     "name": "stdout",
     "output_type": "stream",
     "text": [
      "[21  2 10  2  9]\n"
     ]
    }
   ],
   "source": [
    "import numpy as np\n",
    "\n",
    "array1 = np.array([1,4,8,6,2])\n",
    "array2 = np.array([[11,44,88,66,22],\n",
    "                   [22,10,47,69,5]])\n",
    "\n",
    "array = np.array([array1.sum(), array2.ndim, array2.size, array1.argmax(), array2.argmin()])\n",
    "print(array)"
   ]
  },
  {
   "cell_type": "code",
   "execution_count": 23,
   "id": "1f66defe",
   "metadata": {},
   "outputs": [
    {
     "data": {
      "text/plain": [
       "2275"
      ]
     },
     "execution_count": 23,
     "metadata": {},
     "output_type": "execute_result"
    }
   ],
   "source": [
    "data = np.array([[0,1,2,3,4,5,6],\n",
    "               [300,10,500,70,100,100,600],\n",
    "               [8,6,24,32,5,25,25],\n",
    "               [2400,60,12000,2275,500,770,4000]])\n",
    "\n",
    "data[3,3]"
   ]
  },
  {
   "cell_type": "code",
   "execution_count": 25,
   "id": "0c6e98d6",
   "metadata": {},
   "outputs": [
    {
     "name": "stdout",
     "output_type": "stream",
     "text": [
      "['3' 'lemons' '3' 'apples' '13' 'melons' '2' 'cereal']\n"
     ]
    }
   ],
   "source": [
    "shopping_list = [3, \"lemons\",3, \"apples\", 13, 'melons', 2, \"cereal\"]\n",
    "shopping_array = np.array(shopping_list)\n",
    "print(shopping_array)"
   ]
  },
  {
   "cell_type": "code",
   "execution_count": 27,
   "id": "50f9c85e",
   "metadata": {},
   "outputs": [],
   "source": [
    "import pandas as pd \n",
    "\n",
    "arr = np.array([[0,1,2,3,4,5,6],\n",
    "               [300,10,500,70,100,100,600],\n",
    "               [8,6,24,32,5,25,25],\n",
    "               [2400,60,12000,2275,500,770,4000]])\n",
    "\n",
    "df = pd.DataFrame(arr)"
   ]
  },
  {
   "cell_type": "code",
   "execution_count": 28,
   "id": "bd209d24",
   "metadata": {},
   "outputs": [
    {
     "data": {
      "text/html": [
       "<div>\n",
       "<style scoped>\n",
       "    .dataframe tbody tr th:only-of-type {\n",
       "        vertical-align: middle;\n",
       "    }\n",
       "\n",
       "    .dataframe tbody tr th {\n",
       "        vertical-align: top;\n",
       "    }\n",
       "\n",
       "    .dataframe thead th {\n",
       "        text-align: right;\n",
       "    }\n",
       "</style>\n",
       "<table border=\"1\" class=\"dataframe\">\n",
       "  <thead>\n",
       "    <tr style=\"text-align: right;\">\n",
       "      <th></th>\n",
       "      <th>0</th>\n",
       "      <th>1</th>\n",
       "      <th>2</th>\n",
       "      <th>3</th>\n",
       "      <th>4</th>\n",
       "      <th>5</th>\n",
       "      <th>6</th>\n",
       "    </tr>\n",
       "  </thead>\n",
       "  <tbody>\n",
       "    <tr>\n",
       "      <th>count</th>\n",
       "      <td>4.000000</td>\n",
       "      <td>4.00000</td>\n",
       "      <td>4.000000</td>\n",
       "      <td>4.000000</td>\n",
       "      <td>4.000000</td>\n",
       "      <td>4.000000</td>\n",
       "      <td>4.000000</td>\n",
       "    </tr>\n",
       "    <tr>\n",
       "      <th>mean</th>\n",
       "      <td>677.000000</td>\n",
       "      <td>19.25000</td>\n",
       "      <td>3131.500000</td>\n",
       "      <td>595.000000</td>\n",
       "      <td>152.250000</td>\n",
       "      <td>225.000000</td>\n",
       "      <td>1157.750000</td>\n",
       "    </tr>\n",
       "    <tr>\n",
       "      <th>std</th>\n",
       "      <td>1157.115379</td>\n",
       "      <td>27.41502</td>\n",
       "      <td>5916.795614</td>\n",
       "      <td>1120.335962</td>\n",
       "      <td>236.164314</td>\n",
       "      <td>365.627315</td>\n",
       "      <td>1914.777685</td>\n",
       "    </tr>\n",
       "    <tr>\n",
       "      <th>min</th>\n",
       "      <td>0.000000</td>\n",
       "      <td>1.00000</td>\n",
       "      <td>2.000000</td>\n",
       "      <td>3.000000</td>\n",
       "      <td>4.000000</td>\n",
       "      <td>5.000000</td>\n",
       "      <td>6.000000</td>\n",
       "    </tr>\n",
       "    <tr>\n",
       "      <th>25%</th>\n",
       "      <td>6.000000</td>\n",
       "      <td>4.75000</td>\n",
       "      <td>18.500000</td>\n",
       "      <td>24.750000</td>\n",
       "      <td>4.750000</td>\n",
       "      <td>20.000000</td>\n",
       "      <td>20.250000</td>\n",
       "    </tr>\n",
       "    <tr>\n",
       "      <th>50%</th>\n",
       "      <td>154.000000</td>\n",
       "      <td>8.00000</td>\n",
       "      <td>262.000000</td>\n",
       "      <td>51.000000</td>\n",
       "      <td>52.500000</td>\n",
       "      <td>62.500000</td>\n",
       "      <td>312.500000</td>\n",
       "    </tr>\n",
       "    <tr>\n",
       "      <th>75%</th>\n",
       "      <td>825.000000</td>\n",
       "      <td>22.50000</td>\n",
       "      <td>3375.000000</td>\n",
       "      <td>621.250000</td>\n",
       "      <td>200.000000</td>\n",
       "      <td>267.500000</td>\n",
       "      <td>1450.000000</td>\n",
       "    </tr>\n",
       "    <tr>\n",
       "      <th>max</th>\n",
       "      <td>2400.000000</td>\n",
       "      <td>60.00000</td>\n",
       "      <td>12000.000000</td>\n",
       "      <td>2275.000000</td>\n",
       "      <td>500.000000</td>\n",
       "      <td>770.000000</td>\n",
       "      <td>4000.000000</td>\n",
       "    </tr>\n",
       "  </tbody>\n",
       "</table>\n",
       "</div>"
      ],
      "text/plain": [
       "                 0         1             2            3           4  \\\n",
       "count     4.000000   4.00000      4.000000     4.000000    4.000000   \n",
       "mean    677.000000  19.25000   3131.500000   595.000000  152.250000   \n",
       "std    1157.115379  27.41502   5916.795614  1120.335962  236.164314   \n",
       "min       0.000000   1.00000      2.000000     3.000000    4.000000   \n",
       "25%       6.000000   4.75000     18.500000    24.750000    4.750000   \n",
       "50%     154.000000   8.00000    262.000000    51.000000   52.500000   \n",
       "75%     825.000000  22.50000   3375.000000   621.250000  200.000000   \n",
       "max    2400.000000  60.00000  12000.000000  2275.000000  500.000000   \n",
       "\n",
       "                5            6  \n",
       "count    4.000000     4.000000  \n",
       "mean   225.000000  1157.750000  \n",
       "std    365.627315  1914.777685  \n",
       "min      5.000000     6.000000  \n",
       "25%     20.000000    20.250000  \n",
       "50%     62.500000   312.500000  \n",
       "75%    267.500000  1450.000000  \n",
       "max    770.000000  4000.000000  "
      ]
     },
     "execution_count": 28,
     "metadata": {},
     "output_type": "execute_result"
    }
   ],
   "source": [
    "df.describe()"
   ]
  },
  {
   "cell_type": "code",
   "execution_count": 29,
   "id": "60b40d13",
   "metadata": {},
   "outputs": [
    {
     "data": {
      "text/html": [
       "<div>\n",
       "<style scoped>\n",
       "    .dataframe tbody tr th:only-of-type {\n",
       "        vertical-align: middle;\n",
       "    }\n",
       "\n",
       "    .dataframe tbody tr th {\n",
       "        vertical-align: top;\n",
       "    }\n",
       "\n",
       "    .dataframe thead th {\n",
       "        text-align: right;\n",
       "    }\n",
       "</style>\n",
       "<table border=\"1\" class=\"dataframe\">\n",
       "  <thead>\n",
       "    <tr style=\"text-align: right;\">\n",
       "      <th></th>\n",
       "      <th>count</th>\n",
       "      <th>mean</th>\n",
       "      <th>std</th>\n",
       "      <th>min</th>\n",
       "      <th>25%</th>\n",
       "      <th>50%</th>\n",
       "      <th>75%</th>\n",
       "      <th>max</th>\n",
       "    </tr>\n",
       "  </thead>\n",
       "  <tbody>\n",
       "    <tr>\n",
       "      <th>0</th>\n",
       "      <td>4.0</td>\n",
       "      <td>677.00</td>\n",
       "      <td>1157.115379</td>\n",
       "      <td>0.0</td>\n",
       "      <td>6.00</td>\n",
       "      <td>154.0</td>\n",
       "      <td>825.00</td>\n",
       "      <td>2400.0</td>\n",
       "    </tr>\n",
       "    <tr>\n",
       "      <th>1</th>\n",
       "      <td>4.0</td>\n",
       "      <td>19.25</td>\n",
       "      <td>27.415020</td>\n",
       "      <td>1.0</td>\n",
       "      <td>4.75</td>\n",
       "      <td>8.0</td>\n",
       "      <td>22.50</td>\n",
       "      <td>60.0</td>\n",
       "    </tr>\n",
       "    <tr>\n",
       "      <th>2</th>\n",
       "      <td>4.0</td>\n",
       "      <td>3131.50</td>\n",
       "      <td>5916.795614</td>\n",
       "      <td>2.0</td>\n",
       "      <td>18.50</td>\n",
       "      <td>262.0</td>\n",
       "      <td>3375.00</td>\n",
       "      <td>12000.0</td>\n",
       "    </tr>\n",
       "    <tr>\n",
       "      <th>3</th>\n",
       "      <td>4.0</td>\n",
       "      <td>595.00</td>\n",
       "      <td>1120.335962</td>\n",
       "      <td>3.0</td>\n",
       "      <td>24.75</td>\n",
       "      <td>51.0</td>\n",
       "      <td>621.25</td>\n",
       "      <td>2275.0</td>\n",
       "    </tr>\n",
       "    <tr>\n",
       "      <th>4</th>\n",
       "      <td>4.0</td>\n",
       "      <td>152.25</td>\n",
       "      <td>236.164314</td>\n",
       "      <td>4.0</td>\n",
       "      <td>4.75</td>\n",
       "      <td>52.5</td>\n",
       "      <td>200.00</td>\n",
       "      <td>500.0</td>\n",
       "    </tr>\n",
       "    <tr>\n",
       "      <th>5</th>\n",
       "      <td>4.0</td>\n",
       "      <td>225.00</td>\n",
       "      <td>365.627315</td>\n",
       "      <td>5.0</td>\n",
       "      <td>20.00</td>\n",
       "      <td>62.5</td>\n",
       "      <td>267.50</td>\n",
       "      <td>770.0</td>\n",
       "    </tr>\n",
       "    <tr>\n",
       "      <th>6</th>\n",
       "      <td>4.0</td>\n",
       "      <td>1157.75</td>\n",
       "      <td>1914.777685</td>\n",
       "      <td>6.0</td>\n",
       "      <td>20.25</td>\n",
       "      <td>312.5</td>\n",
       "      <td>1450.00</td>\n",
       "      <td>4000.0</td>\n",
       "    </tr>\n",
       "  </tbody>\n",
       "</table>\n",
       "</div>"
      ],
      "text/plain": [
       "   count     mean          std  min    25%    50%      75%      max\n",
       "0    4.0   677.00  1157.115379  0.0   6.00  154.0   825.00   2400.0\n",
       "1    4.0    19.25    27.415020  1.0   4.75    8.0    22.50     60.0\n",
       "2    4.0  3131.50  5916.795614  2.0  18.50  262.0  3375.00  12000.0\n",
       "3    4.0   595.00  1120.335962  3.0  24.75   51.0   621.25   2275.0\n",
       "4    4.0   152.25   236.164314  4.0   4.75   52.5   200.00    500.0\n",
       "5    4.0   225.00   365.627315  5.0  20.00   62.5   267.50    770.0\n",
       "6    4.0  1157.75  1914.777685  6.0  20.25  312.5  1450.00   4000.0"
      ]
     },
     "execution_count": 29,
     "metadata": {},
     "output_type": "execute_result"
    }
   ],
   "source": [
    "df.describe().T"
   ]
  },
  {
   "cell_type": "code",
   "execution_count": 31,
   "id": "c2dae4d0",
   "metadata": {},
   "outputs": [],
   "source": [
    "#dataframe_csv = pd.read_cvs(\"file.csv\")\n",
    "#dataframe_txt = pd.read_csv(\"file.txt\")\n",
    "#dataframe_xlxs = pd.read_xlsx(\"file.xlsx\")"
   ]
  }
 ],
 "metadata": {
  "kernelspec": {
   "display_name": "Python 3 (ipykernel)",
   "language": "python",
   "name": "python3"
  },
  "language_info": {
   "codemirror_mode": {
    "name": "ipython",
    "version": 3
   },
   "file_extension": ".py",
   "mimetype": "text/x-python",
   "name": "python",
   "nbconvert_exporter": "python",
   "pygments_lexer": "ipython3",
   "version": "3.9.13"
  }
 },
 "nbformat": 4,
 "nbformat_minor": 5
}
