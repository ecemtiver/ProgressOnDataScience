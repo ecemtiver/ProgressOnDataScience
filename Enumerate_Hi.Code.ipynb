{
 "cells": [
  {
   "cell_type": "markdown",
   "id": "229fb5e4",
   "metadata": {},
   "source": [
    "# 1 \n",
    "Enumerate methodunu araştırın ve aşağıdaki örneği enumerate methodu ile yapın."
   ]
  },
  {
   "cell_type": "code",
   "execution_count": 3,
   "id": "96f1c03c",
   "metadata": {},
   "outputs": [
    {
     "name": "stdout",
     "output_type": "stream",
     "text": [
      "0. indexte bulunan meyve: kavun\n",
      "1. indexte bulunan meyve: karpuz\n",
      "2. indexte bulunan meyve: kiraz\n",
      "3. indexte bulunan meyve: çilek\n"
     ]
    }
   ],
   "source": [
    "meyveler = [\"kavun\", \"karpuz\", \"kiraz\", \"çilek\"]\n",
    "\n",
    "for index in range(len(meyveler)):\n",
    "    print(\"{}. indexte bulunan meyve: {}\".format(index,meyveler[index]))"
   ]
  },
  {
   "cell_type": "code",
   "execution_count": 4,
   "id": "40236575",
   "metadata": {},
   "outputs": [
    {
     "name": "stdout",
     "output_type": "stream",
     "text": [
      "0. indexte bulunan meyve: kavun\n",
      "1. indexte bulunan meyve: karpuz\n",
      "2. indexte bulunan meyve: kiraz\n",
      "3. indexte bulunan meyve: çilek\n"
     ]
    }
   ],
   "source": [
    "meyveler = [\"kavun\", \"karpuz\", \"kiraz\", \"çilek\"]\n",
    "\n",
    "for index, meyve in enumerate(meyveler):\n",
    "     print(\"{}. indexte bulunan meyve: {}\".format(index,meyveler[index]))"
   ]
  },
  {
   "cell_type": "markdown",
   "id": "853ffbe1",
   "metadata": {},
   "source": [
    "# 2\n",
    "Aşagıdaki listede bulunan string veri tipindeki öğeleri yeni_liste isimli değişkene ekleyin."
   ]
  },
  {
   "cell_type": "code",
   "execution_count": 7,
   "id": "cc8a78f7",
   "metadata": {},
   "outputs": [
    {
     "name": "stdout",
     "output_type": "stream",
     "text": [
      "['Python', '3', 'Hi-Kod', 'False']\n"
     ]
    }
   ],
   "source": [
    "liste = [\"Python\",True,9,\"3\",8.4,\"Hi-Kod\",\"False\",4.7]\n",
    "\n",
    "yeni_liste = []\n",
    "for i in liste:\n",
    "    if type(i)==str:\n",
    "        yeni_liste.append(i)\n",
    "print(yeni_liste)"
   ]
  },
  {
   "cell_type": "markdown",
   "id": "a4ca65a3",
   "metadata": {},
   "source": [
    "# 3\n",
    "- Bir sözlük oluşturalım ve bu sözlükte öğrencilerin isimleri ve Matematik,Fizik,Kimya notları tutulsun.\n",
    "- Kullanıcıdan isim ve ders ismi(Matematik,Fizik,Kimya) istensin ve bu bilgilere göre çıktı verilsin."
   ]
  },
  {
   "cell_type": "code",
   "execution_count": 3,
   "id": "4d8a26c7",
   "metadata": {},
   "outputs": [
    {
     "name": "stdout",
     "output_type": "stream",
     "text": [
      "Öğrencinin adını giriniz: Ecem\n",
      "Dersin adını giriniz: Kimya\n",
      "Ecem öğrencinin Kimya dersi notu: 66\n"
     ]
    }
   ],
   "source": [
    "notlar = {\n",
    "    \"İrem\": {\"Kimya\": 88, \"Fizik\": 77, \"Matematik\": 66},\n",
    "    \"Mert\": {\"Kimya\": 99, \"Fizik\": 88, \"Matematik\": 77},\n",
    "    \"Ecem\": {\"Kimya\": 66, \"Fizik\": 77, \"Matematik\": 88}\n",
    "}\n",
    "\n",
    "ogrenci_adi = input(\"Öğrencinin adını giriniz: \")\n",
    "ders_adi = input(\"Dersin adını giriniz: \")\n",
    "\n",
    "if ogrenci_adi in notlar and ders_adi in notlar[ogrenci_adi]:\n",
    "    notu = notlar[ogrenci_adi][ders_adi]\n",
    "    print(f\"{ogrenci_adi} öğrencinin {ders_adi} dersi notu: {notu}\")\n",
    "else:\n",
    "    print(\"Eksik veya yanlış bilgi girdiniz!\")"
   ]
  },
  {
   "cell_type": "code",
   "execution_count": null,
   "id": "92f4b6a3",
   "metadata": {
    "collapsed": true
   },
   "outputs": [],
   "source": []
  }
 ],
 "metadata": {
  "kernelspec": {
   "display_name": "Python 3 (ipykernel)",
   "language": "python",
   "name": "python3"
  },
  "language_info": {
   "codemirror_mode": {
    "name": "ipython",
    "version": 3
   },
   "file_extension": ".py",
   "mimetype": "text/x-python",
   "name": "python",
   "nbconvert_exporter": "python",
   "pygments_lexer": "ipython3",
   "version": "3.9.13"
  }
 },
 "nbformat": 4,
 "nbformat_minor": 5
}
